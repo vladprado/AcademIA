{
 "cells": [
  {
   "cell_type": "markdown",
   "id": "78e618d2-30bf-40a1-856e-1c213ef3bd19",
   "metadata": {
    "id": "78e618d2-30bf-40a1-856e-1c213ef3bd19"
   },
   "source": [
    "# AcademIA BB - Ciência de Dados\n",
    "\n",
    "Bem vindos e bem vindas à AcademIA BB! Esse material faz parte do eixo de Ciência de Dados e contém o conteúdo que será desenvolvido nas Lives.\n",
    "\n",
    "O conteúdo é baseado em uma premissa \"mãos na massa\", então os conceitos serão explicados à medida que são apresentados por meio do código.\n",
    "\n",
    "\n",
    "Projetos de ciências de dados seguem alguns passos, vamos dividir os nossos em 8:\n",
    "\n",
    "1. Investigar o quadro geral\n",
    "2. Obter os dados.\n",
    "3. Descobrir e visualizar os dados para obter insights.\n",
    "4. Preparar os dados para algoritmos de Aprendizado de Máquina.\n",
    "5. Selecionar um modelo e treina-lo.\n",
    "6. Ajustar o modelo.\n",
    "7. Apresentar a sua solução.\n",
    "8. Lançar, monitorar e manter seu sistema.\n",
    "\n",
    "\n",
    "No primeiro passo, é aferida a disponibilidade dos dados que são importantes para o problema. No nosso caso, vamos estudar um problema de rotatividade de clientes do cartão de crédito. Esses dados devem ser obtidos e importados para nosso ambiente de desenvolvimento para que possamos acessá-lo pelo Python.\n",
    "\n",
    "\n",
    "## Caso de Estudo\n",
    "\n",
    "Um gerente do banco está incomodado com o fato de cada vez mais clientes abandonarem os serviços de cartão de crédito. Eles realmente apreciariam se alguém pudesse prever quem será desligado, para que possam ir proativamente ao cliente para fornecer-lhes melhores serviços e direcionar as decisões dos clientes na direção oposta.\n",
    "\n",
    "No nosso exemplo, os clientes estão abandonando os serviços de cartão de crédito e queremos buscar hipóteses que expliquem esse comportamento. Para entender e explorar esse comportamento, vamos analisar os dados dos clientes que abandonaram ou não o serviço. Esses dados podem ou não conter insights sobre a evasão do serviço, mas para aferir essa situação, precisamos primeiro entender quais dados estão disponíveis e como eles poderiam afetar a decisão de evadir ou não.\n",
    "\n",
    "\n",
    "Os dados dos clientes serão disponibilizados e passaremos para o próximo passo, que é importar os dados para nosso ambiente de desenvolvimento."
   ]
  },
  {
   "cell_type": "markdown",
   "id": "83ea409d-1829-47d4-ab3e-3e9576758fbd",
   "metadata": {
    "id": "83ea409d-1829-47d4-ab3e-3e9576758fbd"
   },
   "source": [
    "### Importando dados\n",
    "\n",
    "Temos um conjunto de dados que possue várias informações dos clientes. Esses dados nos foram disponibilizados através de um arquivo CSV, ou seja, os dados estão no formato de texto separado por vírgulas.\n",
    "\n",
    "Esse tipo de arquivo possui dados estruturados em linhas e colunas, o que é muito comum e considerado padrão na ciência de dados. A primeira linha de nosso arquivo de texto possuirá o nome de cada uma de nossas colunas, separados por vírgulas. Todas as outras linhas são consideradas 'observações', ou seja, valores para cada coluna de nosso conjunto. Uma linha possui, portanto, um valor por coluna e o número de valores de cada linha deve corresponder ao número de colunas.\n",
    "\n",
    "Esse arquivo possui os dados mas nosso ambiente de desenvolvimento Python ainda não tem acesso a eles. Vamos então importar os dados para nosso ambiente.\n"
   ]
  },
  {
   "cell_type": "code",
   "execution_count": 1,
   "id": "09293292-0bbb-4ae8-b84e-7744fdb1c3de",
   "metadata": {
    "id": "09293292-0bbb-4ae8-b84e-7744fdb1c3de"
   },
   "outputs": [],
   "source": [
    "import pandas as pd # Primeiro vamos importar a biblioteca Pandas para poder manipular o arquivo\n",
    "\n",
    "df = pd.read_csv('bases/ds_dataset_002.csv',sep=';') # Agora vamos importar os dados e atribuir à variável df"
   ]
  },
  {
   "cell_type": "markdown",
   "id": "996e5c70-de78-4509-bd8f-d1103b0af632",
   "metadata": {
    "id": "996e5c70-de78-4509-bd8f-d1103b0af632"
   },
   "source": [
    "### Observando os valores de nosso DataFrame\n",
    "\n",
    "Percebemos que mesmo depois de executar a célula acima, os valores de nosso conjunto de dados não aparecem na tela. Isso por que apenas importamos o conjunto de dados para nosso ambiente de desenvolvimento mas ainda não os escrevemos na tela.\n",
    "\n",
    "Conjuntos de dados costumam ter centenas senão centenas de milhares ou até milhões de linhas. Não se costuma, portanto, visualizar todos os valores de um conjunto de dados e sim apenas algumas linhas."
   ]
  },
  {
   "cell_type": "code",
   "execution_count": 2,
   "id": "ed0fe4a7-b09d-4d5f-b9ed-451d3bf4bd13",
   "metadata": {
    "colab": {
     "base_uri": "https://localhost:8080/",
     "height": 206
    },
    "id": "ed0fe4a7-b09d-4d5f-b9ed-451d3bf4bd13",
    "outputId": "75846907-6dc7-4064-df64-b9643e5ce79d"
   },
   "outputs": [
    {
     "data": {
      "text/html": [
       "<div>\n",
       "<style scoped>\n",
       "    .dataframe tbody tr th:only-of-type {\n",
       "        vertical-align: middle;\n",
       "    }\n",
       "\n",
       "    .dataframe tbody tr th {\n",
       "        vertical-align: top;\n",
       "    }\n",
       "\n",
       "    .dataframe thead th {\n",
       "        text-align: right;\n",
       "    }\n",
       "</style>\n",
       "<table border=\"1\" class=\"dataframe\">\n",
       "  <thead>\n",
       "    <tr style=\"text-align: right;\">\n",
       "      <th></th>\n",
       "      <th>Indicador</th>\n",
       "      <th>Idade</th>\n",
       "      <th>Genero</th>\n",
       "      <th>Dependentes</th>\n",
       "      <th>Escolaridade</th>\n",
       "      <th>Estado_Civil</th>\n",
       "      <th>Renda</th>\n",
       "      <th>Cartao</th>\n",
       "      <th>Limite_Credito</th>\n",
       "    </tr>\n",
       "  </thead>\n",
       "  <tbody>\n",
       "    <tr>\n",
       "      <th>0</th>\n",
       "      <td>0</td>\n",
       "      <td>45</td>\n",
       "      <td>M</td>\n",
       "      <td>3</td>\n",
       "      <td>Ensino Médio Completo</td>\n",
       "      <td>Casado</td>\n",
       "      <td>De 60 Mil a 80 Mil</td>\n",
       "      <td>Blue</td>\n",
       "      <td>12691.0</td>\n",
       "    </tr>\n",
       "    <tr>\n",
       "      <th>1</th>\n",
       "      <td>0</td>\n",
       "      <td>49</td>\n",
       "      <td>F</td>\n",
       "      <td>5</td>\n",
       "      <td>Pós-Graduação</td>\n",
       "      <td>Solteiro</td>\n",
       "      <td>Menos de 40 Mil</td>\n",
       "      <td>Blue</td>\n",
       "      <td>8256.0</td>\n",
       "    </tr>\n",
       "    <tr>\n",
       "      <th>2</th>\n",
       "      <td>0</td>\n",
       "      <td>51</td>\n",
       "      <td>M</td>\n",
       "      <td>3</td>\n",
       "      <td>Pós-Graduação</td>\n",
       "      <td>Casado</td>\n",
       "      <td>De 80 Mil a 120 Mil</td>\n",
       "      <td>Blue</td>\n",
       "      <td>3418.0</td>\n",
       "    </tr>\n",
       "    <tr>\n",
       "      <th>3</th>\n",
       "      <td>0</td>\n",
       "      <td>40</td>\n",
       "      <td>F</td>\n",
       "      <td>4</td>\n",
       "      <td>Ensino Médio Completo</td>\n",
       "      <td>NaN</td>\n",
       "      <td>Menos de 40 Mil</td>\n",
       "      <td>Blue</td>\n",
       "      <td>3313.0</td>\n",
       "    </tr>\n",
       "    <tr>\n",
       "      <th>4</th>\n",
       "      <td>0</td>\n",
       "      <td>40</td>\n",
       "      <td>M</td>\n",
       "      <td>3</td>\n",
       "      <td>Sem Escolaridade</td>\n",
       "      <td>Casado</td>\n",
       "      <td>De 60 Mil a 80 Mil</td>\n",
       "      <td>Blue</td>\n",
       "      <td>4716.0</td>\n",
       "    </tr>\n",
       "  </tbody>\n",
       "</table>\n",
       "</div>"
      ],
      "text/plain": [
       "   Indicador  Idade Genero  Dependentes           Escolaridade Estado_Civil  \\\n",
       "0          0     45      M            3  Ensino Médio Completo       Casado   \n",
       "1          0     49      F            5          Pós-Graduação     Solteiro   \n",
       "2          0     51      M            3          Pós-Graduação       Casado   \n",
       "3          0     40      F            4  Ensino Médio Completo          NaN   \n",
       "4          0     40      M            3       Sem Escolaridade       Casado   \n",
       "\n",
       "                 Renda Cartao  Limite_Credito  \n",
       "0   De 60 Mil a 80 Mil   Blue         12691.0  \n",
       "1      Menos de 40 Mil   Blue          8256.0  \n",
       "2  De 80 Mil a 120 Mil   Blue          3418.0  \n",
       "3      Menos de 40 Mil   Blue          3313.0  \n",
       "4   De 60 Mil a 80 Mil   Blue          4716.0  "
      ]
     },
     "execution_count": 2,
     "metadata": {},
     "output_type": "execute_result"
    }
   ],
   "source": [
    "df.head(5) # Esse comando nos mostra as 5 primeiras linhas do arquivo importado"
   ]
  },
  {
   "cell_type": "markdown",
   "id": "2f9149ab-c12e-4329-9eec-d239cf7626d4",
   "metadata": {
    "jp-MarkdownHeadingCollapsed": true,
    "tags": []
   },
   "source": [
    "## Descrevendo um conjunto de dados"
   ]
  },
  {
   "cell_type": "markdown",
   "id": "c8441dd6-70e7-4077-b51c-f0127ef3f7b4",
   "metadata": {
    "id": "c8441dd6-70e7-4077-b51c-f0127ef3f7b4"
   },
   "source": [
    "\n",
    "\n",
    "Conjuntos de dados possuem diversas informações que podem descrevê-los. A análise realizada para descrever o conjunto de dados é chamada 'Análise Descritiva'. Essa análise busca descrever o conjunto a partir do que chamamos de 'medidas resumo' que, como o nome diz, resumem e sintetizam informações sobre o conjunto inteiro. Por exemplo, a partir de uma lista de idades é possível obter o valor médio das idades, que corresponde à soma de todas os valores dividida pelo número total de observações. Algumas informações sobre o conjunto podem ser obtidas facilmente a partir da observação simples do conjunto, como\n",
    "- Número de observações\n",
    "- Tipo de dados\n",
    "    - Quantitativos\n",
    "    - Qualitativos\n",
    "- Valores mínimos e máximos\n",
    "- Ordenação dos valores\n",
    "\n"
   ]
  },
  {
   "cell_type": "markdown",
   "id": "3b74aa10-91e1-4494-8d9f-2bcb7ddf75aa",
   "metadata": {
    "id": "3b74aa10-91e1-4494-8d9f-2bcb7ddf75aa"
   },
   "source": [
    "Para acessar uma coluna do nosso DataFrame, utiliza-se o colchete `[]` com o nome da coluna desejada. É possível selecionar mais de uma coluna utilizando dois colchetes `[[]]`, como no exemplo abaixo."
   ]
  },
  {
   "cell_type": "code",
   "execution_count": 3,
   "id": "4fb9d5ca-f969-4add-9b85-bd3a137d3442",
   "metadata": {
    "colab": {
     "base_uri": "https://localhost:8080/",
     "height": 458
    },
    "id": "4fb9d5ca-f969-4add-9b85-bd3a137d3442",
    "outputId": "43eabfba-82b2-4397-fb80-f2f717931aad"
   },
   "outputs": [
    {
     "data": {
      "text/plain": [
       "0        0\n",
       "1        0\n",
       "2        0\n",
       "3        0\n",
       "4        0\n",
       "        ..\n",
       "10122    0\n",
       "10123    1\n",
       "10124    1\n",
       "10125    1\n",
       "10126    1\n",
       "Name: Indicador, Length: 10127, dtype: int64"
      ]
     },
     "execution_count": 3,
     "metadata": {},
     "output_type": "execute_result"
    }
   ],
   "source": [
    "df['Indicador']"
   ]
  },
  {
   "cell_type": "code",
   "execution_count": 4,
   "id": "6d4feeb3-2648-4c5d-adc3-bba816c200ea",
   "metadata": {
    "colab": {
     "base_uri": "https://localhost:8080/",
     "height": 424
    },
    "id": "6d4feeb3-2648-4c5d-adc3-bba816c200ea",
    "outputId": "18acad63-832e-4b14-e803-25a4f0452512"
   },
   "outputs": [
    {
     "data": {
      "text/html": [
       "<div>\n",
       "<style scoped>\n",
       "    .dataframe tbody tr th:only-of-type {\n",
       "        vertical-align: middle;\n",
       "    }\n",
       "\n",
       "    .dataframe tbody tr th {\n",
       "        vertical-align: top;\n",
       "    }\n",
       "\n",
       "    .dataframe thead th {\n",
       "        text-align: right;\n",
       "    }\n",
       "</style>\n",
       "<table border=\"1\" class=\"dataframe\">\n",
       "  <thead>\n",
       "    <tr style=\"text-align: right;\">\n",
       "      <th></th>\n",
       "      <th>Indicador</th>\n",
       "      <th>Genero</th>\n",
       "    </tr>\n",
       "  </thead>\n",
       "  <tbody>\n",
       "    <tr>\n",
       "      <th>0</th>\n",
       "      <td>0</td>\n",
       "      <td>M</td>\n",
       "    </tr>\n",
       "    <tr>\n",
       "      <th>1</th>\n",
       "      <td>0</td>\n",
       "      <td>F</td>\n",
       "    </tr>\n",
       "    <tr>\n",
       "      <th>2</th>\n",
       "      <td>0</td>\n",
       "      <td>M</td>\n",
       "    </tr>\n",
       "    <tr>\n",
       "      <th>3</th>\n",
       "      <td>0</td>\n",
       "      <td>F</td>\n",
       "    </tr>\n",
       "    <tr>\n",
       "      <th>4</th>\n",
       "      <td>0</td>\n",
       "      <td>M</td>\n",
       "    </tr>\n",
       "    <tr>\n",
       "      <th>...</th>\n",
       "      <td>...</td>\n",
       "      <td>...</td>\n",
       "    </tr>\n",
       "    <tr>\n",
       "      <th>10122</th>\n",
       "      <td>0</td>\n",
       "      <td>M</td>\n",
       "    </tr>\n",
       "    <tr>\n",
       "      <th>10123</th>\n",
       "      <td>1</td>\n",
       "      <td>M</td>\n",
       "    </tr>\n",
       "    <tr>\n",
       "      <th>10124</th>\n",
       "      <td>1</td>\n",
       "      <td>F</td>\n",
       "    </tr>\n",
       "    <tr>\n",
       "      <th>10125</th>\n",
       "      <td>1</td>\n",
       "      <td>M</td>\n",
       "    </tr>\n",
       "    <tr>\n",
       "      <th>10126</th>\n",
       "      <td>1</td>\n",
       "      <td>F</td>\n",
       "    </tr>\n",
       "  </tbody>\n",
       "</table>\n",
       "<p>10127 rows × 2 columns</p>\n",
       "</div>"
      ],
      "text/plain": [
       "       Indicador Genero\n",
       "0              0      M\n",
       "1              0      F\n",
       "2              0      M\n",
       "3              0      F\n",
       "4              0      M\n",
       "...          ...    ...\n",
       "10122          0      M\n",
       "10123          1      M\n",
       "10124          1      F\n",
       "10125          1      M\n",
       "10126          1      F\n",
       "\n",
       "[10127 rows x 2 columns]"
      ]
     },
     "execution_count": 4,
     "metadata": {},
     "output_type": "execute_result"
    }
   ],
   "source": [
    "df[['Indicador','Genero']]"
   ]
  },
  {
   "cell_type": "code",
   "execution_count": 5,
   "id": "303ea290-99ff-4cd3-a75a-6585a4f40693",
   "metadata": {
    "colab": {
     "base_uri": "https://localhost:8080/",
     "height": 398
    },
    "id": "303ea290-99ff-4cd3-a75a-6585a4f40693",
    "outputId": "caf8caa2-a6c6-40c1-e91c-b92eb098f079"
   },
   "outputs": [
    {
     "data": {
      "text/plain": [
       "0    45\n",
       "1    49\n",
       "2    51\n",
       "3    40\n",
       "4    40\n",
       "5    44\n",
       "6    51\n",
       "7    32\n",
       "8    37\n",
       "9    48\n",
       "Name: Idade, dtype: int64"
      ]
     },
     "execution_count": 5,
     "metadata": {},
     "output_type": "execute_result"
    }
   ],
   "source": [
    "df['Idade'][0:10] # para selecionar linhas, utilize um segundo par de colchetes"
   ]
  },
  {
   "cell_type": "code",
   "execution_count": 6,
   "id": "6f87a12f-a0f7-4339-8285-91fc70f78d5d",
   "metadata": {
    "colab": {
     "base_uri": "https://localhost:8080/",
     "height": 363
    },
    "id": "6f87a12f-a0f7-4339-8285-91fc70f78d5d",
    "outputId": "7082c580-009d-4232-b871-cfb20b68e303"
   },
   "outputs": [
    {
     "data": {
      "text/html": [
       "<div>\n",
       "<style scoped>\n",
       "    .dataframe tbody tr th:only-of-type {\n",
       "        vertical-align: middle;\n",
       "    }\n",
       "\n",
       "    .dataframe tbody tr th {\n",
       "        vertical-align: top;\n",
       "    }\n",
       "\n",
       "    .dataframe thead th {\n",
       "        text-align: right;\n",
       "    }\n",
       "</style>\n",
       "<table border=\"1\" class=\"dataframe\">\n",
       "  <thead>\n",
       "    <tr style=\"text-align: right;\">\n",
       "      <th></th>\n",
       "      <th>Indicador</th>\n",
       "      <th>Genero</th>\n",
       "    </tr>\n",
       "  </thead>\n",
       "  <tbody>\n",
       "    <tr>\n",
       "      <th>0</th>\n",
       "      <td>0</td>\n",
       "      <td>M</td>\n",
       "    </tr>\n",
       "    <tr>\n",
       "      <th>1</th>\n",
       "      <td>0</td>\n",
       "      <td>F</td>\n",
       "    </tr>\n",
       "    <tr>\n",
       "      <th>2</th>\n",
       "      <td>0</td>\n",
       "      <td>M</td>\n",
       "    </tr>\n",
       "    <tr>\n",
       "      <th>3</th>\n",
       "      <td>0</td>\n",
       "      <td>F</td>\n",
       "    </tr>\n",
       "    <tr>\n",
       "      <th>4</th>\n",
       "      <td>0</td>\n",
       "      <td>M</td>\n",
       "    </tr>\n",
       "    <tr>\n",
       "      <th>5</th>\n",
       "      <td>0</td>\n",
       "      <td>M</td>\n",
       "    </tr>\n",
       "    <tr>\n",
       "      <th>6</th>\n",
       "      <td>0</td>\n",
       "      <td>M</td>\n",
       "    </tr>\n",
       "    <tr>\n",
       "      <th>7</th>\n",
       "      <td>0</td>\n",
       "      <td>M</td>\n",
       "    </tr>\n",
       "    <tr>\n",
       "      <th>8</th>\n",
       "      <td>0</td>\n",
       "      <td>M</td>\n",
       "    </tr>\n",
       "    <tr>\n",
       "      <th>9</th>\n",
       "      <td>0</td>\n",
       "      <td>M</td>\n",
       "    </tr>\n",
       "  </tbody>\n",
       "</table>\n",
       "</div>"
      ],
      "text/plain": [
       "   Indicador Genero\n",
       "0          0      M\n",
       "1          0      F\n",
       "2          0      M\n",
       "3          0      F\n",
       "4          0      M\n",
       "5          0      M\n",
       "6          0      M\n",
       "7          0      M\n",
       "8          0      M\n",
       "9          0      M"
      ]
     },
     "execution_count": 6,
     "metadata": {},
     "output_type": "execute_result"
    }
   ],
   "source": [
    "df[['Indicador','Genero']][0:10] # também funciona para mais de uma coluna"
   ]
  },
  {
   "cell_type": "markdown",
   "id": "6473938a-df34-4637-97ca-0c5ac8148a51",
   "metadata": {
    "id": "6473938a-df34-4637-97ca-0c5ac8148a51"
   },
   "source": [
    "### Função `info()`\n",
    "\n",
    "\n",
    "Muitas informações importantes dos nossos dados podems ser obtidas através da função `info()`. Para executar a função, após o nome da sua variável que contém os dados, escreva `.info()` e execute a célula, como no exemplo a seguir. A saída conterá informações sobre o conjunto de dados como número de linhas, colunas, valores nulos e os tipos de dados de cada coluna.\n",
    "\n",
    "Essa é uma função muito útil para ter uma visão geral de nosso conjunto de dados e escolher quais passos seguir na sua análise."
   ]
  },
  {
   "cell_type": "code",
   "execution_count": 7,
   "id": "07287d5a-6b90-4202-a330-4e2cd7fa30bd",
   "metadata": {
    "colab": {
     "base_uri": "https://localhost:8080/"
    },
    "id": "07287d5a-6b90-4202-a330-4e2cd7fa30bd",
    "outputId": "22f85bc7-2443-41b5-ba22-1bf4dd489531"
   },
   "outputs": [
    {
     "name": "stdout",
     "output_type": "stream",
     "text": [
      "<class 'pandas.core.frame.DataFrame'>\n",
      "RangeIndex: 10127 entries, 0 to 10126\n",
      "Data columns (total 9 columns):\n",
      " #   Column          Non-Null Count  Dtype  \n",
      "---  ------          --------------  -----  \n",
      " 0   Indicador       10127 non-null  int64  \n",
      " 1   Idade           10127 non-null  int64  \n",
      " 2   Genero          10127 non-null  object \n",
      " 3   Dependentes     10127 non-null  int64  \n",
      " 4   Escolaridade    10127 non-null  object \n",
      " 5   Estado_Civil    9378 non-null   object \n",
      " 6   Renda           9015 non-null   object \n",
      " 7   Cartao          10127 non-null  object \n",
      " 8   Limite_Credito  10127 non-null  float64\n",
      "dtypes: float64(1), int64(3), object(5)\n",
      "memory usage: 712.2+ KB\n"
     ]
    }
   ],
   "source": [
    "df.info()"
   ]
  },
  {
   "cell_type": "markdown",
   "id": "dbb41159-3342-450e-b9d7-abddbd3c23f8",
   "metadata": {
    "id": "dbb41159-3342-450e-b9d7-abddbd3c23f8"
   },
   "source": [
    "### Função `describe()`\n",
    "\n",
    "A função `describe()` possui um objetivo semelhante, com a diferença que ele irá retornar informações de estatística descritiva das colunas numéricas de nosso conjunto de dados.\n",
    "\n",
    "As estatísticas obtidas são:\n",
    "- count : Contagem\n",
    "\n",
    "É o número de observações daquela variável. Ou seja, é o número de linhas que possuem valores válidos para aquela coluna. Caso em certas linhas os valores para aquela coluna sejam nulos, por exemplo, esses valores não serão contados.\n",
    "\n",
    "- Média\n",
    "\n",
    "É a média aritmética dos valores válidos da coluna. A média aritmética é obtida a partir da soma de todos os valores observados dividida pelo número de observações.\n",
    "\n",
    "\n",
    "- std - Desvio-Padrão\n",
    "\n",
    "O desvio-padrão é uma medida de distribuição que mede quanto cada observação se distancia da média. Ele nos dá informações sobre a distribuição de valores das nossas observações. Quanto maior o valor do desvio-padrão, maior a variação dos valores observados com relação a média.\n",
    "\n",
    "- min e max - Mínimo e Máximo\n",
    "\n",
    "Esses são os valores mínimo e máximo para a coluna observada.\n",
    "\n",
    "- Mediana\n",
    "\n",
    "A mediana é uma medida de posição que corresponde ao valor que esteja localizado na metade da lista ordenada dos valores observados. Essa medida é útil pois ela reduz a influência de valores extremos, chamados de __outliers__.\n",
    "\n",
    "No caso da saída de nossa função `describe()`, a mediana é apresentada a partir de seus 'quartis', que são as posições relativas na lista ordenada de valores de nossas observações.\n",
    "\n",
    "O primeiro quartil corresponde ao valor apresentado como '25%' e ele apresenta o valor central entre o menor e metade da lista ordenada. Por definição, indica que até seu valor, 25% dos dados estarão incluídos. Isso também indica que apenas 25% dos valores é inferior ao primeiro quartil.\n",
    "\n",
    "O segundo quartil corresponde à mediana e é o valor que se encontra na posição central da lista ordenada de valores. Indica também que 50% dos valores é inferior ao valor da mediana.\n",
    "\n",
    "O terceiro quartil é o valor que se encontra na posição 75% da lista ordenada de valores.\n"
   ]
  },
  {
   "cell_type": "code",
   "execution_count": 8,
   "id": "75a4418c-cc3e-4200-b4a7-ffeaf3d4ec9e",
   "metadata": {
    "colab": {
     "base_uri": "https://localhost:8080/",
     "height": 300
    },
    "id": "75a4418c-cc3e-4200-b4a7-ffeaf3d4ec9e",
    "outputId": "490474c9-7d71-4f75-fcde-4f8fb4ed4ece"
   },
   "outputs": [
    {
     "data": {
      "text/html": [
       "<div>\n",
       "<style scoped>\n",
       "    .dataframe tbody tr th:only-of-type {\n",
       "        vertical-align: middle;\n",
       "    }\n",
       "\n",
       "    .dataframe tbody tr th {\n",
       "        vertical-align: top;\n",
       "    }\n",
       "\n",
       "    .dataframe thead th {\n",
       "        text-align: right;\n",
       "    }\n",
       "</style>\n",
       "<table border=\"1\" class=\"dataframe\">\n",
       "  <thead>\n",
       "    <tr style=\"text-align: right;\">\n",
       "      <th></th>\n",
       "      <th>Indicador</th>\n",
       "      <th>Idade</th>\n",
       "      <th>Dependentes</th>\n",
       "      <th>Limite_Credito</th>\n",
       "    </tr>\n",
       "  </thead>\n",
       "  <tbody>\n",
       "    <tr>\n",
       "      <th>count</th>\n",
       "      <td>10127.000000</td>\n",
       "      <td>10127.000000</td>\n",
       "      <td>10127.000000</td>\n",
       "      <td>10127.000000</td>\n",
       "    </tr>\n",
       "    <tr>\n",
       "      <th>mean</th>\n",
       "      <td>0.160660</td>\n",
       "      <td>46.325960</td>\n",
       "      <td>2.346203</td>\n",
       "      <td>8631.953698</td>\n",
       "    </tr>\n",
       "    <tr>\n",
       "      <th>std</th>\n",
       "      <td>0.367235</td>\n",
       "      <td>8.016814</td>\n",
       "      <td>1.298908</td>\n",
       "      <td>9088.776650</td>\n",
       "    </tr>\n",
       "    <tr>\n",
       "      <th>min</th>\n",
       "      <td>0.000000</td>\n",
       "      <td>26.000000</td>\n",
       "      <td>0.000000</td>\n",
       "      <td>1438.300000</td>\n",
       "    </tr>\n",
       "    <tr>\n",
       "      <th>25%</th>\n",
       "      <td>0.000000</td>\n",
       "      <td>41.000000</td>\n",
       "      <td>1.000000</td>\n",
       "      <td>2555.000000</td>\n",
       "    </tr>\n",
       "    <tr>\n",
       "      <th>50%</th>\n",
       "      <td>0.000000</td>\n",
       "      <td>46.000000</td>\n",
       "      <td>2.000000</td>\n",
       "      <td>4549.000000</td>\n",
       "    </tr>\n",
       "    <tr>\n",
       "      <th>75%</th>\n",
       "      <td>0.000000</td>\n",
       "      <td>52.000000</td>\n",
       "      <td>3.000000</td>\n",
       "      <td>11067.500000</td>\n",
       "    </tr>\n",
       "    <tr>\n",
       "      <th>max</th>\n",
       "      <td>1.000000</td>\n",
       "      <td>73.000000</td>\n",
       "      <td>5.000000</td>\n",
       "      <td>34516.000000</td>\n",
       "    </tr>\n",
       "  </tbody>\n",
       "</table>\n",
       "</div>"
      ],
      "text/plain": [
       "          Indicador         Idade   Dependentes  Limite_Credito\n",
       "count  10127.000000  10127.000000  10127.000000    10127.000000\n",
       "mean       0.160660     46.325960      2.346203     8631.953698\n",
       "std        0.367235      8.016814      1.298908     9088.776650\n",
       "min        0.000000     26.000000      0.000000     1438.300000\n",
       "25%        0.000000     41.000000      1.000000     2555.000000\n",
       "50%        0.000000     46.000000      2.000000     4549.000000\n",
       "75%        0.000000     52.000000      3.000000    11067.500000\n",
       "max        1.000000     73.000000      5.000000    34516.000000"
      ]
     },
     "execution_count": 8,
     "metadata": {},
     "output_type": "execute_result"
    }
   ],
   "source": [
    "df.describe()"
   ]
  },
  {
   "cell_type": "markdown",
   "id": "6b35a7fd-0eaa-4578-8c1b-6a9aceae6a2e",
   "metadata": {
    "id": "6b35a7fd-0eaa-4578-8c1b-6a9aceae6a2e"
   },
   "source": [
    "### Funções de Estatística Descritiva\n",
    "\n",
    "DataFrames são variáveis muito úteis para a análise descritiva de um conjunto de dados pois possuem funções para a obtenção de valores de forma simples.\n",
    "\n",
    "Para obter o número total de linhas de nosso conjunto, podemos utilizar a função `len()` ou a variável `shape` de nosso DataFrame."
   ]
  },
  {
   "cell_type": "code",
   "execution_count": 9,
   "id": "f6f1d647-2a6f-4a3b-9cfb-a393cc3e61aa",
   "metadata": {
    "colab": {
     "base_uri": "https://localhost:8080/"
    },
    "id": "f6f1d647-2a6f-4a3b-9cfb-a393cc3e61aa",
    "outputId": "eeead0de-03a4-41cf-db0a-032bc31f32b5"
   },
   "outputs": [
    {
     "data": {
      "text/plain": [
       "10127"
      ]
     },
     "execution_count": 9,
     "metadata": {},
     "output_type": "execute_result"
    }
   ],
   "source": [
    "len(df)"
   ]
  },
  {
   "cell_type": "code",
   "execution_count": 10,
   "id": "056ea7da-ae3b-4a98-a690-3afbf043ad6d",
   "metadata": {
    "colab": {
     "base_uri": "https://localhost:8080/"
    },
    "id": "056ea7da-ae3b-4a98-a690-3afbf043ad6d",
    "outputId": "9a6a0212-b46b-4203-af5e-8c3f25bcb67a"
   },
   "outputs": [
    {
     "data": {
      "text/plain": [
       "(10127, 9)"
      ]
     },
     "execution_count": 10,
     "metadata": {},
     "output_type": "execute_result"
    }
   ],
   "source": [
    "df.shape"
   ]
  },
  {
   "cell_type": "markdown",
   "id": "8a5f1f0e-9b51-4661-920f-d782b3150b23",
   "metadata": {
    "id": "8a5f1f0e-9b51-4661-920f-d782b3150b23"
   },
   "source": [
    "Para obter o máximo e mínimo de uma coluna ou de todas as colunas, basta utilizar as funções `max()` e `min()`."
   ]
  },
  {
   "cell_type": "code",
   "execution_count": 11,
   "id": "48b80d5a-b92d-4646-b148-dfc36897d207",
   "metadata": {
    "colab": {
     "base_uri": "https://localhost:8080/"
    },
    "id": "48b80d5a-b92d-4646-b148-dfc36897d207",
    "outputId": "fe6e5450-b701-43e5-97e8-6188351f59ce"
   },
   "outputs": [
    {
     "data": {
      "text/plain": [
       "np.int64(73)"
      ]
     },
     "execution_count": 11,
     "metadata": {},
     "output_type": "execute_result"
    }
   ],
   "source": [
    "df['Idade'].max()"
   ]
  },
  {
   "cell_type": "markdown",
   "id": "4329e319-7fe7-4579-b079-66b2312382a0",
   "metadata": {
    "id": "4329e319-7fe7-4579-b079-66b2312382a0"
   },
   "source": [
    "### Distribuição de Valores\n",
    "\n",
    "Os valores observados podem estar distribuídos de forma diferente. Temos uma função chamada `value_counts()` que mostra o número de observações para cada valor na coluna observada. Vamos aplicar essa função na nossa coluna de Indicador, assim vamos saber quantas pessoas evadiram nosso serviço de cartão de crédito."
   ]
  },
  {
   "cell_type": "code",
   "execution_count": 12,
   "id": "166d8f62-c37b-42b5-b4ea-16be9620d535",
   "metadata": {
    "colab": {
     "base_uri": "https://localhost:8080/",
     "height": 178
    },
    "id": "166d8f62-c37b-42b5-b4ea-16be9620d535",
    "outputId": "a56b0307-45a5-4675-feb3-57f4f1441b95"
   },
   "outputs": [
    {
     "data": {
      "text/plain": [
       "Indicador\n",
       "0    8500\n",
       "1    1627\n",
       "Name: count, dtype: int64"
      ]
     },
     "execution_count": 12,
     "metadata": {},
     "output_type": "execute_result"
    }
   ],
   "source": [
    "df['Indicador'].value_counts()"
   ]
  },
  {
   "cell_type": "code",
   "execution_count": 13,
   "id": "b9fa1f39-69f1-414e-991b-3c52b0444913",
   "metadata": {
    "colab": {
     "base_uri": "https://localhost:8080/",
     "height": 241
    },
    "id": "b9fa1f39-69f1-414e-991b-3c52b0444913",
    "outputId": "bc90ceb1-c93d-42a6-d9e0-5c65b99735d7"
   },
   "outputs": [
    {
     "data": {
      "text/plain": [
       "Cartao\n",
       "Blue        0.931767\n",
       "Silver      0.054804\n",
       "Gold        0.011455\n",
       "Platinum    0.001975\n",
       "Name: proportion, dtype: float64"
      ]
     },
     "execution_count": 13,
     "metadata": {},
     "output_type": "execute_result"
    }
   ],
   "source": [
    "df['Cartao'].value_counts(normalize=True) #exemplo com o normalize"
   ]
  },
  {
   "cell_type": "markdown",
   "id": "6a76b832-dd8c-43a6-9051-de0afef11629",
   "metadata": {},
   "source": [
    "# Live 2"
   ]
  },
  {
   "cell_type": "markdown",
   "id": "fb26cc33-7540-454a-8cb7-71d72534cdda",
   "metadata": {},
   "source": [
    "* Relembrando a base de dados da Live 1"
   ]
  },
  {
   "cell_type": "code",
   "execution_count": 14,
   "id": "2f5cb27f-babd-4fed-91b8-60349a239a08",
   "metadata": {},
   "outputs": [
    {
     "data": {
      "text/html": [
       "<div>\n",
       "<style scoped>\n",
       "    .dataframe tbody tr th:only-of-type {\n",
       "        vertical-align: middle;\n",
       "    }\n",
       "\n",
       "    .dataframe tbody tr th {\n",
       "        vertical-align: top;\n",
       "    }\n",
       "\n",
       "    .dataframe thead th {\n",
       "        text-align: right;\n",
       "    }\n",
       "</style>\n",
       "<table border=\"1\" class=\"dataframe\">\n",
       "  <thead>\n",
       "    <tr style=\"text-align: right;\">\n",
       "      <th></th>\n",
       "      <th>Indicador</th>\n",
       "      <th>Idade</th>\n",
       "      <th>Genero</th>\n",
       "      <th>Dependentes</th>\n",
       "      <th>Escolaridade</th>\n",
       "      <th>Estado_Civil</th>\n",
       "      <th>Renda</th>\n",
       "      <th>Cartao</th>\n",
       "      <th>Limite_Credito</th>\n",
       "    </tr>\n",
       "  </thead>\n",
       "  <tbody>\n",
       "    <tr>\n",
       "      <th>0</th>\n",
       "      <td>0</td>\n",
       "      <td>45</td>\n",
       "      <td>M</td>\n",
       "      <td>3</td>\n",
       "      <td>Ensino Médio Completo</td>\n",
       "      <td>Casado</td>\n",
       "      <td>De 60 Mil a 80 Mil</td>\n",
       "      <td>Blue</td>\n",
       "      <td>12691.0</td>\n",
       "    </tr>\n",
       "    <tr>\n",
       "      <th>1</th>\n",
       "      <td>0</td>\n",
       "      <td>49</td>\n",
       "      <td>F</td>\n",
       "      <td>5</td>\n",
       "      <td>Pós-Graduação</td>\n",
       "      <td>Solteiro</td>\n",
       "      <td>Menos de 40 Mil</td>\n",
       "      <td>Blue</td>\n",
       "      <td>8256.0</td>\n",
       "    </tr>\n",
       "    <tr>\n",
       "      <th>2</th>\n",
       "      <td>0</td>\n",
       "      <td>51</td>\n",
       "      <td>M</td>\n",
       "      <td>3</td>\n",
       "      <td>Pós-Graduação</td>\n",
       "      <td>Casado</td>\n",
       "      <td>De 80 Mil a 120 Mil</td>\n",
       "      <td>Blue</td>\n",
       "      <td>3418.0</td>\n",
       "    </tr>\n",
       "    <tr>\n",
       "      <th>3</th>\n",
       "      <td>0</td>\n",
       "      <td>40</td>\n",
       "      <td>F</td>\n",
       "      <td>4</td>\n",
       "      <td>Ensino Médio Completo</td>\n",
       "      <td>NaN</td>\n",
       "      <td>Menos de 40 Mil</td>\n",
       "      <td>Blue</td>\n",
       "      <td>3313.0</td>\n",
       "    </tr>\n",
       "    <tr>\n",
       "      <th>4</th>\n",
       "      <td>0</td>\n",
       "      <td>40</td>\n",
       "      <td>M</td>\n",
       "      <td>3</td>\n",
       "      <td>Sem Escolaridade</td>\n",
       "      <td>Casado</td>\n",
       "      <td>De 60 Mil a 80 Mil</td>\n",
       "      <td>Blue</td>\n",
       "      <td>4716.0</td>\n",
       "    </tr>\n",
       "    <tr>\n",
       "      <th>...</th>\n",
       "      <td>...</td>\n",
       "      <td>...</td>\n",
       "      <td>...</td>\n",
       "      <td>...</td>\n",
       "      <td>...</td>\n",
       "      <td>...</td>\n",
       "      <td>...</td>\n",
       "      <td>...</td>\n",
       "      <td>...</td>\n",
       "    </tr>\n",
       "    <tr>\n",
       "      <th>10122</th>\n",
       "      <td>0</td>\n",
       "      <td>50</td>\n",
       "      <td>M</td>\n",
       "      <td>2</td>\n",
       "      <td>Pós-Graduação</td>\n",
       "      <td>Solteiro</td>\n",
       "      <td>De 40 Mil a 60 Mil</td>\n",
       "      <td>Blue</td>\n",
       "      <td>4003.0</td>\n",
       "    </tr>\n",
       "    <tr>\n",
       "      <th>10123</th>\n",
       "      <td>1</td>\n",
       "      <td>41</td>\n",
       "      <td>M</td>\n",
       "      <td>2</td>\n",
       "      <td>Desconhecido</td>\n",
       "      <td>Divorciado</td>\n",
       "      <td>De 40 Mil a 60 Mil</td>\n",
       "      <td>Blue</td>\n",
       "      <td>4277.0</td>\n",
       "    </tr>\n",
       "    <tr>\n",
       "      <th>10124</th>\n",
       "      <td>1</td>\n",
       "      <td>44</td>\n",
       "      <td>F</td>\n",
       "      <td>1</td>\n",
       "      <td>Ensino Médio Completo</td>\n",
       "      <td>Casado</td>\n",
       "      <td>Menos de 40 Mil</td>\n",
       "      <td>Blue</td>\n",
       "      <td>5409.0</td>\n",
       "    </tr>\n",
       "    <tr>\n",
       "      <th>10125</th>\n",
       "      <td>1</td>\n",
       "      <td>30</td>\n",
       "      <td>M</td>\n",
       "      <td>2</td>\n",
       "      <td>Pós-Graduação</td>\n",
       "      <td>NaN</td>\n",
       "      <td>De 40 Mil a 60 Mil</td>\n",
       "      <td>Blue</td>\n",
       "      <td>5281.0</td>\n",
       "    </tr>\n",
       "    <tr>\n",
       "      <th>10126</th>\n",
       "      <td>1</td>\n",
       "      <td>43</td>\n",
       "      <td>F</td>\n",
       "      <td>2</td>\n",
       "      <td>Pós-Graduação</td>\n",
       "      <td>Casado</td>\n",
       "      <td>Menos de 40 Mil</td>\n",
       "      <td>Silver</td>\n",
       "      <td>10388.0</td>\n",
       "    </tr>\n",
       "  </tbody>\n",
       "</table>\n",
       "<p>10127 rows × 9 columns</p>\n",
       "</div>"
      ],
      "text/plain": [
       "       Indicador  Idade Genero  Dependentes           Escolaridade  \\\n",
       "0              0     45      M            3  Ensino Médio Completo   \n",
       "1              0     49      F            5          Pós-Graduação   \n",
       "2              0     51      M            3          Pós-Graduação   \n",
       "3              0     40      F            4  Ensino Médio Completo   \n",
       "4              0     40      M            3       Sem Escolaridade   \n",
       "...          ...    ...    ...          ...                    ...   \n",
       "10122          0     50      M            2          Pós-Graduação   \n",
       "10123          1     41      M            2           Desconhecido   \n",
       "10124          1     44      F            1  Ensino Médio Completo   \n",
       "10125          1     30      M            2          Pós-Graduação   \n",
       "10126          1     43      F            2          Pós-Graduação   \n",
       "\n",
       "      Estado_Civil                Renda  Cartao  Limite_Credito  \n",
       "0           Casado   De 60 Mil a 80 Mil    Blue         12691.0  \n",
       "1         Solteiro      Menos de 40 Mil    Blue          8256.0  \n",
       "2           Casado  De 80 Mil a 120 Mil    Blue          3418.0  \n",
       "3              NaN      Menos de 40 Mil    Blue          3313.0  \n",
       "4           Casado   De 60 Mil a 80 Mil    Blue          4716.0  \n",
       "...            ...                  ...     ...             ...  \n",
       "10122     Solteiro   De 40 Mil a 60 Mil    Blue          4003.0  \n",
       "10123   Divorciado   De 40 Mil a 60 Mil    Blue          4277.0  \n",
       "10124       Casado      Menos de 40 Mil    Blue          5409.0  \n",
       "10125          NaN   De 40 Mil a 60 Mil    Blue          5281.0  \n",
       "10126       Casado      Menos de 40 Mil  Silver         10388.0  \n",
       "\n",
       "[10127 rows x 9 columns]"
      ]
     },
     "execution_count": 14,
     "metadata": {},
     "output_type": "execute_result"
    }
   ],
   "source": [
    "df"
   ]
  },
  {
   "cell_type": "markdown",
   "id": "d30854dc-5fcb-45c5-8611-1f3c6d61c2e9",
   "metadata": {},
   "source": [
    "* Percebemos que 2 colunas possuem valores nulos"
   ]
  },
  {
   "cell_type": "code",
   "execution_count": 15,
   "id": "81424aa1-2c12-457a-86c5-b001039ed38e",
   "metadata": {},
   "outputs": [
    {
     "name": "stdout",
     "output_type": "stream",
     "text": [
      "<class 'pandas.core.frame.DataFrame'>\n",
      "RangeIndex: 10127 entries, 0 to 10126\n",
      "Data columns (total 9 columns):\n",
      " #   Column          Non-Null Count  Dtype  \n",
      "---  ------          --------------  -----  \n",
      " 0   Indicador       10127 non-null  int64  \n",
      " 1   Idade           10127 non-null  int64  \n",
      " 2   Genero          10127 non-null  object \n",
      " 3   Dependentes     10127 non-null  int64  \n",
      " 4   Escolaridade    10127 non-null  object \n",
      " 5   Estado_Civil    9378 non-null   object \n",
      " 6   Renda           9015 non-null   object \n",
      " 7   Cartao          10127 non-null  object \n",
      " 8   Limite_Credito  10127 non-null  float64\n",
      "dtypes: float64(1), int64(3), object(5)\n",
      "memory usage: 712.2+ KB\n"
     ]
    }
   ],
   "source": [
    "df.info()"
   ]
  },
  {
   "cell_type": "markdown",
   "id": "39543eed-aac6-47af-9e5e-1579995293cd",
   "metadata": {},
   "source": [
    "## Tratamento de Nulos"
   ]
  },
  {
   "cell_type": "code",
   "execution_count": 16,
   "id": "68ce8d76-5052-43f8-9da3-f1583e43fea6",
   "metadata": {
    "colab": {
     "base_uri": "https://localhost:8080/",
     "height": 332
    },
    "id": "68ce8d76-5052-43f8-9da3-f1583e43fea6",
    "outputId": "fdfa982e-a390-40be-e2f6-47d7848cdb4e"
   },
   "outputs": [
    {
     "data": {
      "text/html": [
       "<div>\n",
       "<style scoped>\n",
       "    .dataframe tbody tr th:only-of-type {\n",
       "        vertical-align: middle;\n",
       "    }\n",
       "\n",
       "    .dataframe tbody tr th {\n",
       "        vertical-align: top;\n",
       "    }\n",
       "\n",
       "    .dataframe thead th {\n",
       "        text-align: right;\n",
       "    }\n",
       "</style>\n",
       "<table border=\"1\" class=\"dataframe\">\n",
       "  <thead>\n",
       "    <tr style=\"text-align: right;\">\n",
       "      <th></th>\n",
       "      <th>Atributo</th>\n",
       "      <th>Percentual</th>\n",
       "    </tr>\n",
       "  </thead>\n",
       "  <tbody>\n",
       "    <tr>\n",
       "      <th>6</th>\n",
       "      <td>Renda</td>\n",
       "      <td>11.0</td>\n",
       "    </tr>\n",
       "    <tr>\n",
       "      <th>5</th>\n",
       "      <td>Estado_Civil</td>\n",
       "      <td>7.4</td>\n",
       "    </tr>\n",
       "    <tr>\n",
       "      <th>0</th>\n",
       "      <td>Indicador</td>\n",
       "      <td>0.0</td>\n",
       "    </tr>\n",
       "    <tr>\n",
       "      <th>1</th>\n",
       "      <td>Idade</td>\n",
       "      <td>0.0</td>\n",
       "    </tr>\n",
       "    <tr>\n",
       "      <th>2</th>\n",
       "      <td>Genero</td>\n",
       "      <td>0.0</td>\n",
       "    </tr>\n",
       "    <tr>\n",
       "      <th>4</th>\n",
       "      <td>Escolaridade</td>\n",
       "      <td>0.0</td>\n",
       "    </tr>\n",
       "    <tr>\n",
       "      <th>3</th>\n",
       "      <td>Dependentes</td>\n",
       "      <td>0.0</td>\n",
       "    </tr>\n",
       "    <tr>\n",
       "      <th>7</th>\n",
       "      <td>Cartao</td>\n",
       "      <td>0.0</td>\n",
       "    </tr>\n",
       "    <tr>\n",
       "      <th>8</th>\n",
       "      <td>Limite_Credito</td>\n",
       "      <td>0.0</td>\n",
       "    </tr>\n",
       "  </tbody>\n",
       "</table>\n",
       "</div>"
      ],
      "text/plain": [
       "         Atributo  Percentual\n",
       "6           Renda        11.0\n",
       "5    Estado_Civil         7.4\n",
       "0       Indicador         0.0\n",
       "1           Idade         0.0\n",
       "2          Genero         0.0\n",
       "4    Escolaridade         0.0\n",
       "3     Dependentes         0.0\n",
       "7          Cartao         0.0\n",
       "8  Limite_Credito         0.0"
      ]
     },
     "execution_count": 16,
     "metadata": {},
     "output_type": "execute_result"
    }
   ],
   "source": [
    "# Live 2\n",
    "percent_nulos = round(df.isnull().sum() / len(df),3) * 100\n",
    "df2 = pd.DataFrame(percent_nulos).reset_index()\n",
    "df2.columns = ['Atributo','Percentual']\n",
    "df2.sort_values(by = 'Percentual', ascending = False)"
   ]
  },
  {
   "cell_type": "markdown",
   "id": "84043a50-ed37-447f-9aff-cbd33cfc8812",
   "metadata": {
    "tags": []
   },
   "source": [
    "### Formas do tratamento de nulos:\n",
    "- dropar os registros cujo valor é nulo\n",
    "- preencher com aquele de maior frequência/ mediana/ média\n",
    "- preencher baseado em outra coluna\n",
    "- Métodos de imputação: https://scikit-learn.org/stable/api/sklearn.impute.html\n",
    "- preencher como 'Desconhecido' (variáveis categóricas)\n",
    "- ..."
   ]
  },
  {
   "cell_type": "markdown",
   "id": "a2ed6bee-ac85-4383-b384-b5fa69d506b0",
   "metadata": {},
   "source": [
    "* Vamos retirar da nossa base os registros cuja renda não é conhecida (null)"
   ]
  },
  {
   "cell_type": "code",
   "execution_count": 17,
   "id": "14326ff5-16e8-465b-80bb-dd0df559214f",
   "metadata": {
    "id": "14326ff5-16e8-465b-80bb-dd0df559214f"
   },
   "outputs": [],
   "source": [
    "#isna identifica os valores ausentes, logo, true indica valor ausente e false indica valor não ausente\n",
    "#nesse exemplo vamos filtrar os valores não ausentes, ou seja, onde isna = false para o atributo renda\n",
    "df3= df[df['Renda'].isna() == False]"
   ]
  },
  {
   "cell_type": "code",
   "execution_count": 18,
   "id": "0f1dc2b2-0651-4b1c-bec4-d05435dec6b7",
   "metadata": {},
   "outputs": [
    {
     "data": {
      "text/plain": [
       "0        False\n",
       "1        False\n",
       "2        False\n",
       "3        False\n",
       "4        False\n",
       "         ...  \n",
       "10122    False\n",
       "10123    False\n",
       "10124    False\n",
       "10125    False\n",
       "10126    False\n",
       "Name: Renda, Length: 10127, dtype: bool"
      ]
     },
     "execution_count": 18,
     "metadata": {},
     "output_type": "execute_result"
    }
   ],
   "source": [
    "df['Renda'].isna()"
   ]
  },
  {
   "cell_type": "code",
   "execution_count": 19,
   "id": "174bdbe3-76fb-410a-badf-787509e72656",
   "metadata": {
    "colab": {
     "base_uri": "https://localhost:8080/",
     "height": 332
    },
    "id": "174bdbe3-76fb-410a-badf-787509e72656",
    "outputId": "57d13919-b640-4930-987b-e7bca0e0f1a1"
   },
   "outputs": [
    {
     "data": {
      "text/html": [
       "<div>\n",
       "<style scoped>\n",
       "    .dataframe tbody tr th:only-of-type {\n",
       "        vertical-align: middle;\n",
       "    }\n",
       "\n",
       "    .dataframe tbody tr th {\n",
       "        vertical-align: top;\n",
       "    }\n",
       "\n",
       "    .dataframe thead th {\n",
       "        text-align: right;\n",
       "    }\n",
       "</style>\n",
       "<table border=\"1\" class=\"dataframe\">\n",
       "  <thead>\n",
       "    <tr style=\"text-align: right;\">\n",
       "      <th></th>\n",
       "      <th>Atributo</th>\n",
       "      <th>Percentual</th>\n",
       "    </tr>\n",
       "  </thead>\n",
       "  <tbody>\n",
       "    <tr>\n",
       "      <th>5</th>\n",
       "      <td>Estado_Civil</td>\n",
       "      <td>7.4</td>\n",
       "    </tr>\n",
       "    <tr>\n",
       "      <th>0</th>\n",
       "      <td>Indicador</td>\n",
       "      <td>0.0</td>\n",
       "    </tr>\n",
       "    <tr>\n",
       "      <th>1</th>\n",
       "      <td>Idade</td>\n",
       "      <td>0.0</td>\n",
       "    </tr>\n",
       "    <tr>\n",
       "      <th>3</th>\n",
       "      <td>Dependentes</td>\n",
       "      <td>0.0</td>\n",
       "    </tr>\n",
       "    <tr>\n",
       "      <th>2</th>\n",
       "      <td>Genero</td>\n",
       "      <td>0.0</td>\n",
       "    </tr>\n",
       "    <tr>\n",
       "      <th>4</th>\n",
       "      <td>Escolaridade</td>\n",
       "      <td>0.0</td>\n",
       "    </tr>\n",
       "    <tr>\n",
       "      <th>6</th>\n",
       "      <td>Renda</td>\n",
       "      <td>0.0</td>\n",
       "    </tr>\n",
       "    <tr>\n",
       "      <th>7</th>\n",
       "      <td>Cartao</td>\n",
       "      <td>0.0</td>\n",
       "    </tr>\n",
       "    <tr>\n",
       "      <th>8</th>\n",
       "      <td>Limite_Credito</td>\n",
       "      <td>0.0</td>\n",
       "    </tr>\n",
       "  </tbody>\n",
       "</table>\n",
       "</div>"
      ],
      "text/plain": [
       "         Atributo  Percentual\n",
       "5    Estado_Civil         7.4\n",
       "0       Indicador         0.0\n",
       "1           Idade         0.0\n",
       "3     Dependentes         0.0\n",
       "2          Genero         0.0\n",
       "4    Escolaridade         0.0\n",
       "6           Renda         0.0\n",
       "7          Cartao         0.0\n",
       "8  Limite_Credito         0.0"
      ]
     },
     "execution_count": 19,
     "metadata": {},
     "output_type": "execute_result"
    }
   ],
   "source": [
    "percent_nulos = round(df3.isnull().sum() / len(df3),3) * 100\n",
    "df2 = pd.DataFrame(percent_nulos).reset_index()\n",
    "df2.columns = ['Atributo','Percentual']\n",
    "df2.sort_values(by = 'Percentual', ascending = False)"
   ]
  },
  {
   "cell_type": "code",
   "execution_count": 20,
   "id": "cbc3ccc9-f309-440e-8872-5a07bfbe8578",
   "metadata": {
    "colab": {
     "base_uri": "https://localhost:8080/"
    },
    "id": "cbc3ccc9-f309-440e-8872-5a07bfbe8578",
    "outputId": "a6c176af-5116-4022-9bf1-8fafb589e9f9"
   },
   "outputs": [
    {
     "name": "stdout",
     "output_type": "stream",
     "text": [
      "<class 'pandas.core.frame.DataFrame'>\n",
      "Index: 9015 entries, 0 to 10126\n",
      "Data columns (total 9 columns):\n",
      " #   Column          Non-Null Count  Dtype  \n",
      "---  ------          --------------  -----  \n",
      " 0   Indicador       9015 non-null   int64  \n",
      " 1   Idade           9015 non-null   int64  \n",
      " 2   Genero          9015 non-null   object \n",
      " 3   Dependentes     9015 non-null   int64  \n",
      " 4   Escolaridade    9015 non-null   object \n",
      " 5   Estado_Civil    8348 non-null   object \n",
      " 6   Renda           9015 non-null   object \n",
      " 7   Cartao          9015 non-null   object \n",
      " 8   Limite_Credito  9015 non-null   float64\n",
      "dtypes: float64(1), int64(3), object(5)\n",
      "memory usage: 704.3+ KB\n"
     ]
    }
   ],
   "source": [
    "df3.info()"
   ]
  },
  {
   "cell_type": "code",
   "execution_count": 21,
   "id": "284a9a94-d2ad-4666-8cfa-d18b214aa1e9",
   "metadata": {
    "colab": {
     "base_uri": "https://localhost:8080/"
    },
    "id": "284a9a94-d2ad-4666-8cfa-d18b214aa1e9",
    "outputId": "e428c72b-c582-422d-b0f7-4d622ca24e2e"
   },
   "outputs": [
    {
     "name": "stdout",
     "output_type": "stream",
     "text": [
      "<class 'pandas.core.frame.DataFrame'>\n",
      "Index: 8348 entries, 0 to 10126\n",
      "Data columns (total 9 columns):\n",
      " #   Column          Non-Null Count  Dtype  \n",
      "---  ------          --------------  -----  \n",
      " 0   Indicador       8348 non-null   int64  \n",
      " 1   Idade           8348 non-null   int64  \n",
      " 2   Genero          8348 non-null   object \n",
      " 3   Dependentes     8348 non-null   int64  \n",
      " 4   Escolaridade    8348 non-null   object \n",
      " 5   Estado_Civil    8348 non-null   object \n",
      " 6   Renda           8348 non-null   object \n",
      " 7   Cartao          8348 non-null   object \n",
      " 8   Limite_Credito  8348 non-null   float64\n",
      "dtypes: float64(1), int64(3), object(5)\n",
      "memory usage: 652.2+ KB\n"
     ]
    }
   ],
   "source": [
    "#dropna remove os valores ausentes\n",
    "df3 = df3.dropna()\n",
    "df3.info()"
   ]
  },
  {
   "cell_type": "markdown",
   "id": "7b5b3139-aa11-473f-9001-afc681d6188b",
   "metadata": {},
   "source": [
    "## Visualizando os dados"
   ]
  },
  {
   "cell_type": "markdown",
   "id": "b69717ba-4b34-4b03-be4f-aeb60bdc3e87",
   "metadata": {},
   "source": [
    "### Variáveis Numéricas"
   ]
  },
  {
   "cell_type": "code",
   "execution_count": 22,
   "id": "f9447307-3abf-4d86-a451-1b104abec00e",
   "metadata": {},
   "outputs": [
    {
     "data": {
      "image/png": "[encoded data removed]",
      "text/plain": [
       "<Figure size 640x480 with 1 Axes>"
      ]
     },
     "metadata": {},
     "output_type": "display_data"
    }
   ],
   "source": [
    "#importar seaborn e matplotlib -  Seaborn e Matplotlib são amplamente utilizadas para visualização de dados em Python\n",
    "\n",
    "import seaborn as sns\n",
    "import matplotlib.pyplot as plt\n",
    "\n",
    "sns.histplot(df3, x = 'Limite_Credito')\n",
    "plt.show()\n"
   ]
  },
  {
   "cell_type": "markdown",
   "id": "4c058d3d-aa33-4ae3-aa4a-017d38c9b4a4",
   "metadata": {},
   "source": [
    "* Modificando o tamanho do gráfico"
   ]
  },
  {
   "cell_type": "code",
   "execution_count": 23,
   "id": "6f464f51-c60f-4e52-8436-fef94d43518c",
   "metadata": {},
   "outputs": [
    {
     "data": {
      "image/png": "[encoded data removed]",
      "text/plain": [
       "<Figure size 1500x500 with 1 Axes>"
      ]
     },
     "metadata": {},
     "output_type": "display_data"
    }
   ],
   "source": [
    "plt.figure(figsize=(15,5))\n",
    "\n",
    "sns.histplot(df3, x = 'Limite_Credito')\n",
    "plt.show()"
   ]
  },
  {
   "cell_type": "code",
   "execution_count": 24,
   "id": "b731a289-8f93-4d69-b35e-703940011789",
   "metadata": {},
   "outputs": [
    {
     "data": {
      "image/png": "[encoded data removed]",
      "text/plain": [
       "<Figure size 640x480 with 1 Axes>"
      ]
     },
     "metadata": {},
     "output_type": "display_data"
    }
   ],
   "source": [
    "\n",
    "sns.histplot(df3['Dependentes'])\n",
    "plt.show()\n"
   ]
  },
  {
   "cell_type": "code",
   "execution_count": 25,
   "id": "8d19f18c-236b-4acc-bb6b-f246c1115b29",
   "metadata": {
    "colab": {
     "base_uri": "https://localhost:8080/",
     "height": 453
    },
    "id": "8d19f18c-236b-4acc-bb6b-f246c1115b29",
    "outputId": "96a6af0d-0e18-4262-b345-bed3b6ea5229"
   },
   "outputs": [
    {
     "data": {
      "image/png": "[encoded data removed]",
      "text/plain": [
       "<Figure size 1500x500 with 1 Axes>"
      ]
     },
     "metadata": {},
     "output_type": "display_data"
    }
   ],
   "source": [
    "plt.figure(figsize=(15,5))\n",
    "sns.histplot(df3['Idade'])\n",
    "plt.show()\n",
    "\n",
    "# O histplot do Seaborn é uma função utilizada para criar histogramas, que são gráficos de barras que mostram a distribuição de um conjunto de dados.\n",
    "#Ele é muito útil para visualizar a frequência de valores em diferentes intervalos (bins) e entender a distribuição de uma variável contínua"
   ]
  },
  {
   "cell_type": "code",
   "execution_count": 26,
   "id": "GZkYL9evAngK",
   "metadata": {
    "colab": {
     "base_uri": "https://localhost:8080/",
     "height": 449
    },
    "id": "GZkYL9evAngK",
    "outputId": "9197d30a-b02f-4fe4-a1ff-1a90cef32de1"
   },
   "outputs": [
    {
     "data": {
      "image/png": "[encoded data removed]",
      "text/plain": [
       "<Figure size 1500x500 with 1 Axes>"
      ]
     },
     "metadata": {},
     "output_type": "display_data"
    }
   ],
   "source": [
    "#gerar boxplot da idade\n",
    "\n",
    "plt.figure(figsize=(15,5))\n",
    "\n",
    "sns.boxplot(x=df3['Idade'])\n",
    "plt.show()\n",
    "\n",
    "#Um boxplot, também conhecido como gráfico de caixa, é uma ferramenta gráfica usada para visualizar a distribuição de um conjunto de dados.\n",
    "#Ele mostra a mediana, os quartis (Q1 e Q3), e os valores mínimo e máximo, além de possíveis outliers.\n",
    "#A “caixa” central representa o intervalo interquartil (IQR), que é a faixa entre o primeiro e o terceiro quartil, enquanto as “linhas” (ou whiskers) se estendem até os valores mínimo e\n",
    "#máximo dentro de 1.5 vezes o IQR. Outliers são plotados como pontos individuais fora dessas linhas.\n",
    "#O boxplot é útil para identificar a dispersão, a simetria e a presença de outliers em um conjunto de dados, facilitando comparações entre diferentes grupos ou distribuições."
   ]
  },
  {
   "cell_type": "markdown",
   "id": "a893f266-b177-4241-a788-9f4c5623462f",
   "metadata": {},
   "source": [
    "### Variáveis categóricas"
   ]
  },
  {
   "cell_type": "code",
   "execution_count": 27,
   "id": "f97fdad5-49dd-4ea1-ae96-6e22328e184e",
   "metadata": {},
   "outputs": [
    {
     "data": {
      "text/plain": [
       "array(['Blue', 'Gold', 'Silver', 'Platinum'], dtype=object)"
      ]
     },
     "execution_count": 27,
     "metadata": {},
     "output_type": "execute_result"
    }
   ],
   "source": [
    "df3.Cartao.unique()"
   ]
  },
  {
   "cell_type": "code",
   "execution_count": 28,
   "id": "7abca7a4-d4ee-4f62-aba6-73095388ac6e",
   "metadata": {},
   "outputs": [
    {
     "data": {
      "text/plain": [
       "array(['Casado', 'Solteiro', 'Divorciado'], dtype=object)"
      ]
     },
     "execution_count": 28,
     "metadata": {},
     "output_type": "execute_result"
    }
   ],
   "source": [
    "df3.Estado_Civil.unique()"
   ]
  },
  {
   "cell_type": "code",
   "execution_count": 29,
   "id": "7809fb5e-bb37-4941-8661-4f3bbc794fc4",
   "metadata": {},
   "outputs": [
    {
     "data": {
      "text/plain": [
       "array(['De 60 Mil a 80 Mil', 'Menos de 40 Mil', 'De 80 Mil a 120 Mil',\n",
       "       'De 40 Mil a 60 Mil', 'Mais de 120 Mil'], dtype=object)"
      ]
     },
     "execution_count": 29,
     "metadata": {},
     "output_type": "execute_result"
    }
   ],
   "source": [
    "df3.Renda.unique()"
   ]
  },
  {
   "cell_type": "code",
   "execution_count": 30,
   "id": "8d21c5b1-8bce-4a94-be20-7e378e022400",
   "metadata": {},
   "outputs": [
    {
     "data": {
      "text/plain": [
       "array(['Ensino Médio Completo', 'Pós-Graduação', 'Sem Escolaridade',\n",
       "       'Desconhecido', 'Ensino Superior Completo', 'Mestrado',\n",
       "       'Doutorado'], dtype=object)"
      ]
     },
     "execution_count": 30,
     "metadata": {},
     "output_type": "execute_result"
    }
   ],
   "source": [
    "\n",
    "df3.Escolaridade.unique()"
   ]
  },
  {
   "cell_type": "code",
   "execution_count": 31,
   "id": "cc185f09-1b72-49a5-b6d8-f47832f86b4c",
   "metadata": {},
   "outputs": [
    {
     "data": {
      "text/plain": [
       "CategoricalDtype(categories=['Sem Escolaridade', 'Desconhecido', 'Ensino Médio Completo',\n",
       "                  'Ensino Superior Completo', 'Pós-Graduação', 'Mestrado',\n",
       "                  'Doutorado'],\n",
       ", ordered=True, categories_dtype=object)"
      ]
     },
     "execution_count": 31,
     "metadata": {},
     "output_type": "execute_result"
    }
   ],
   "source": [
    "possiveis_Education = pd.CategoricalDtype(['Sem Escolaridade', 'Desconhecido','Ensino Médio Completo','Ensino Superior Completo','Pós-Graduação','Mestrado', 'Doutorado'],ordered=True)\n",
    "possiveis_Marital_Status = pd.CategoricalDtype(df3.Estado_Civil.unique())\n",
    "possiveis_Renda = pd.CategoricalDtype(['Menos de 40 Mil','De 40 Mil a 60 Mil','De 60 Mil a 80 Mil','De 80 Mil a 120 Mil','Mais de 120 Mil'],ordered=True)\n",
    "possiveis_cartao = pd.CategoricalDtype(['Blue', 'Silver', 'Gold',  'Platinum'],ordered=True)\n",
    "possiveis_gender = pd.CategoricalDtype(df3.Genero.unique())\n",
    "\n",
    "possiveis_Education"
   ]
  },
  {
   "cell_type": "code",
   "execution_count": 32,
   "id": "4bda8a1e-97b3-4d26-9114-9f798fbc7058",
   "metadata": {},
   "outputs": [],
   "source": [
    "df3.loc[:,'Escolaridade'] = df3.Escolaridade.astype(possiveis_Education)\n",
    "df3.loc[:,'Estado_Civil'] = df3.Estado_Civil.astype(possiveis_Marital_Status)\n",
    "df3.loc[:,'Renda'] = df3.Renda.astype(possiveis_Renda)\n",
    "df3.loc[:,'Cartao'] = df3.Cartao.astype(possiveis_cartao)\n",
    "df3.loc[:,'Genero'] = df3.Genero.astype(possiveis_gender)"
   ]
  },
  {
   "cell_type": "markdown",
   "id": "887b159f-9cd9-4679-a797-cf3774b2b256",
   "metadata": {},
   "source": [
    "#### Cartao"
   ]
  },
  {
   "cell_type": "code",
   "execution_count": 44,
   "id": "91e3929f-6922-4c0b-8324-e9aa43e64721",
   "metadata": {},
   "outputs": [
    {
     "data": {
      "image/png": "[encoded data removed]",
      "text/plain": [
       "<Figure size 1000x500 with 1 Axes>"
      ]
     },
     "metadata": {},
     "output_type": "display_data"
    }
   ],
   "source": [
    "media_limite_cartao = df3.groupby('Cartao')['Limite_Credito'].mean()\n",
    "\n",
    "plt.figure(figsize=(10,5))\n",
    "\n",
    "sns.barplot(data = media_limite_cartao.to_frame(),  x=media_limite_cartao.index, y=media_limite_cartao.values)\n",
    "\n",
    "plt.title('Limite de Crédito por cada categoria de cartão', fontsize=14)\n",
    "plt.xlabel('Categoria do Cartão', fontsize=14)\n",
    "plt.ylabel('Média do Limite de Crédito')\n",
    "plt.show()"
   ]
  },
  {
   "cell_type": "code",
   "execution_count": 34,
   "id": "682bd879-7c99-4dca-9166-736262b587d1",
   "metadata": {},
   "outputs": [
    {
     "data": {
      "image/png": "[encoded data removed]",
      "text/plain": [
       "<Figure size 800x600 with 1 Axes>"
      ]
     },
     "metadata": {},
     "output_type": "display_data"
    }
   ],
   "source": [
    "plt.figure(figsize=(8, 6))\n",
    "sns.countplot(x='Cartao',data=df3)\n",
    "plt.title('Distribuição de Cartao ')\n",
    "plt.xlabel('Cartao')\n",
    "plt.ylabel('Contagem')\n",
    "plt.show()"
   ]
  },
  {
   "cell_type": "markdown",
   "id": "38eb98e0-9d43-4305-bd60-a48526c70bc0",
   "metadata": {},
   "source": [
    "Nesse caso, como o tipo de cartão Blue é muito maior que os outros, pode não fazer sentido para o modelo passar uma variável com muito mais dados. Dessa forma, vamos transformar essa variável em Cartão Blue e Outros."
   ]
  },
  {
   "cell_type": "code",
   "execution_count": 45,
   "id": "HWMX322xAnuO",
   "metadata": {
    "colab": {
     "base_uri": "https://localhost:8080/",
     "height": 178
    },
    "id": "HWMX322xAnuO",
    "outputId": "4cf4fdba-f3f2-4b91-acd6-dd8351905f17"
   },
   "outputs": [
    {
     "data": {
      "text/plain": [
       "Cartao_Num\n",
       "1    7782\n",
       "0     566\n",
       "Name: count, dtype: int64"
      ]
     },
     "execution_count": 45,
     "metadata": {},
     "output_type": "execute_result"
    }
   ],
   "source": [
    "#nova variável usando numpy\n",
    "\n",
    "import numpy as np\n",
    "\n",
    "df3['Cartao_Num'] = np.where(df3['Cartao'] == 'Blue', 1,0)\n",
    "df3.Cartao_Num.value_counts()"
   ]
  },
  {
   "cell_type": "code",
   "execution_count": 46,
   "id": "49b440e3-06a6-4657-b38c-baf17e56ba1d",
   "metadata": {},
   "outputs": [
    {
     "data": {
      "image/png": "[encoded data removed]",
      "text/plain": [
       "<Figure size 800x600 with 1 Axes>"
      ]
     },
     "metadata": {},
     "output_type": "display_data"
    }
   ],
   "source": [
    "plt.figure(figsize=(8, 6))\n",
    "sns.countplot(x='Cartao_Num',data=df3)\n",
    "plt.title('Distribuição de Cartao ')\n",
    "plt.xlabel('Cartao')\n",
    "plt.ylabel('Contagem')\n",
    "plt.show()"
   ]
  },
  {
   "cell_type": "markdown",
   "id": "3ef0c540-1655-4079-b8c0-c024a1f6bb8e",
   "metadata": {},
   "source": [
    "#### Gênero"
   ]
  },
  {
   "cell_type": "code",
   "execution_count": 47,
   "id": "CpYvJdNkAnib",
   "metadata": {
    "colab": {
     "base_uri": "https://localhost:8080/",
     "height": 565
    },
    "id": "CpYvJdNkAnib",
    "outputId": "3518488e-3ad5-4695-ad70-2020ccbfe120"
   },
   "outputs": [
    {
     "data": {
      "image/png": "[encoded data removed]",
      "text/plain": [
       "<Figure size 800x600 with 1 Axes>"
      ]
     },
     "metadata": {},
     "output_type": "display_data"
    }
   ],
   "source": [
    "#gerar gráfico genero e indicador\n",
    "\n",
    "plt.figure(figsize=(8, 6))\n",
    "sns.countplot(x='Genero', hue='Indicador', data=df3)\n",
    "plt.title('Distribuição de Gênero por Indicador de Evasão')\n",
    "plt.xlabel('Gênero')\n",
    "plt.ylabel('Contagem')\n",
    "plt.show()\n",
    "\n",
    "#O countplot do Seaborn é um tipo de gráfico de barras que mostra a contagem de observações em cada categoria de uma variável categórica.\n",
    "#Ele é útil para visualizar a distribuição de frequências de diferentes categorias em um conjunto de dados.\n",
    "#Cada barra no gráfico representa uma categoria e sua altura corresponde ao número de ocorrências dessa categoria.\n",
    "#O countplot é frequentemente usado para análises exploratórias de dados, permitindo identificar rapidamente quais categorias são mais ou menos frequentes.\n",
    "#Além disso, ele pode ser facilmente customizado com cores, rótulos e outras propriedades para melhorar a clareza e a estética da visualização."
   ]
  },
  {
   "cell_type": "markdown",
   "id": "ecb2743f-7759-4ead-ac95-450ddd77fb0b",
   "metadata": {},
   "source": [
    "#### Exemplo de gráfico que não agrega"
   ]
  },
  {
   "cell_type": "code",
   "execution_count": 48,
   "id": "f88e7ac1-c2f8-479f-864c-3d0bd99c0e75",
   "metadata": {},
   "outputs": [
    {
     "data": {
      "image/png": "[encoded data removed]",
      "text/plain": [
       "<Figure size 800x600 with 1 Axes>"
      ]
     },
     "metadata": {},
     "output_type": "display_data"
    }
   ],
   "source": [
    "#gerar gráfico idade e dependentes\n",
    "\n",
    "plt.figure(figsize=(8, 6))\n",
    "sns.scatterplot(x='Idade', y='Dependentes', hue='Indicador', data=df3)\n",
    "plt.title('Relação entre  Idade e Dependentes por Indicador de Evasão')\n",
    "plt.xlabel('Idade')\n",
    "plt.ylabel('Dependentes')\n",
    "plt.show()"
   ]
  },
  {
   "cell_type": "code",
   "execution_count": 49,
   "id": "7728a529-aaa6-4686-8a25-8bdabc63fa13",
   "metadata": {},
   "outputs": [
    {
     "data": {
      "text/plain": [
       "<Axes: xlabel='Dependentes', ylabel='Idade'>"
      ]
     },
     "execution_count": 49,
     "metadata": {},
     "output_type": "execute_result"
    },
    {
     "data": {
      "image/png": "[encoded data removed]",
      "text/plain": [
       "<Figure size 1000x700 with 1 Axes>"
      ]
     },
     "metadata": {},
     "output_type": "display_data"
    }
   ],
   "source": [
    "# menos dependentes: maior amplitude de idade, qt maior o num de dependentes, fica mais junto\n",
    "\n",
    "plt.figure(figsize=(10,7))\n",
    "sns.boxplot(data = df3, \n",
    "            y = 'Idade',  \n",
    "            x = 'Dependentes',\n",
    "            #hue = 'Indicador'\n",
    "           )"
   ]
  },
  {
   "cell_type": "code",
   "execution_count": 50,
   "id": "ZvequEqRAnpm",
   "metadata": {
    "colab": {
     "base_uri": "https://localhost:8080/",
     "height": 435
    },
    "id": "ZvequEqRAnpm",
    "outputId": "eff6c721-b101-495f-df4d-0d00822fa50c"
   },
   "outputs": [
    {
     "data": {
      "image/png": "[encoded data removed]",
      "text/plain": [
       "<Figure size 800x600 with 2 Axes>"
      ]
     },
     "metadata": {},
     "output_type": "display_data"
    }
   ],
   "source": [
    "plt.figure(figsize=(8, 6))\n",
    "sns.heatmap(df3[['Idade', 'Dependentes', 'Limite_Credito']].corr(), annot=True)\n",
    "plt.show()\n",
    "\n",
    "#Um heatmap de correlação no Seaborn é uma visualização gráfica que mostra a matriz de correlação entre várias variáveis de um conjunto de dados.\n",
    "#Cada célula do heatmap representa o coeficiente de correlação entre duas variáveis, com a intensidade da cor indicando a força e a direção da correlação (positiva ou negativa).\n",
    "#Esse tipo de gráfico é extremamente útil para identificar rapidamente relações significativas entre variáveis, facilitando a análise exploratória e a seleção de características\n",
    "#para modelos de machine learning. Além disso, o Seaborn permite adicionar anotações e ajustar a paleta de cores para melhorar a interpretação dos dados."
   ]
  },
  {
   "cell_type": "markdown",
   "id": "71d94ee5-9a3b-4b94-80c3-d9e6fc04c553",
   "metadata": {},
   "source": [
    "## Transformações"
   ]
  },
  {
   "cell_type": "code",
   "execution_count": 51,
   "id": "CeZcPWkMAnr7",
   "metadata": {
    "colab": {
     "base_uri": "https://localhost:8080/",
     "height": 178
    },
    "id": "CeZcPWkMAnr7",
    "outputId": "2f622e7c-3c18-4014-dd51-8bebd12d5197"
   },
   "outputs": [
    {
     "data": {
      "text/plain": [
       "Genero_Num\n",
       "1    4350\n",
       "0    3998\n",
       "Name: count, dtype: int64"
      ]
     },
     "execution_count": 51,
     "metadata": {},
     "output_type": "execute_result"
    }
   ],
   "source": [
    "#nova variável onde genero m = 1 e genero f = 0\n",
    "\n",
    "df3['Genero_Num'] = df3['Genero'].apply(lambda x: 1 if x == 'M' else 0)\n",
    "df3.Genero_Num.value_counts()"
   ]
  },
  {
   "cell_type": "code",
   "execution_count": 52,
   "id": "9gluHreVAnyq",
   "metadata": {
    "colab": {
     "base_uri": "https://localhost:8080/"
    },
    "id": "9gluHreVAnyq",
    "outputId": "c3185720-fc1e-4c7f-fcc7-a19a835c039b"
   },
   "outputs": [
    {
     "name": "stdout",
     "output_type": "stream",
     "text": [
      "<class 'pandas.core.frame.DataFrame'>\n",
      "Index: 8348 entries, 0 to 10126\n",
      "Data columns (total 11 columns):\n",
      " #   Column          Non-Null Count  Dtype  \n",
      "---  ------          --------------  -----  \n",
      " 0   Indicador       8348 non-null   int64  \n",
      " 1   Idade           8348 non-null   int64  \n",
      " 2   Genero          8348 non-null   object \n",
      " 3   Dependentes     8348 non-null   int64  \n",
      " 4   Escolaridade    8348 non-null   object \n",
      " 5   Estado_Civil    8348 non-null   object \n",
      " 6   Renda           8348 non-null   object \n",
      " 7   Cartao          8348 non-null   object \n",
      " 8   Limite_Credito  8348 non-null   float64\n",
      " 9   Cartao_Num      8348 non-null   int64  \n",
      " 10  Genero_Num      8348 non-null   int64  \n",
      "dtypes: float64(1), int64(5), object(5)\n",
      "memory usage: 782.6+ KB\n"
     ]
    }
   ],
   "source": [
    "df3.info()"
   ]
  },
  {
   "cell_type": "markdown",
   "id": "f76698bc-d99c-4625-9f0b-34bea952e8fc",
   "metadata": {},
   "source": [
    "### Categóricas"
   ]
  },
  {
   "cell_type": "markdown",
   "id": "AELCUBE3LIaO",
   "metadata": {
    "id": "AELCUBE3LIaO"
   },
   "source": [
    "A função get_dummies do Pandas é usada para converter variáveis categóricas em variáveis dummy ou indicadores, que são representações numéricas (0 e 1) das categorias. Isso é especialmente útil em análises estatísticas e modelos de machine learning, onde os algoritmos geralmente requerem entradas numéricas.\n",
    "\n",
    "Por que usar get_dummies?\n",
    "\n",
    "Preparação de Dados: Transforma dados categóricos em um formato que pode ser facilmente utilizado por algoritmos de machine learning.\n",
    "\n",
    "Evita Problemas de Ordinalidade: Ao converter categorias em variáveis dummy, evita-se a interpretação errônea de que há uma ordem ou hierarquia entre as categorias.\n",
    "\n",
    "Facilita a Análise: Permite a inclusão de variáveis categóricas em análises estatísticas e modelos preditivos sem a necessidade de codificação manual."
   ]
  },
  {
   "cell_type": "code",
   "execution_count": 54,
   "id": "vZE7RyQhAn0y",
   "metadata": {
    "colab": {
     "base_uri": "https://localhost:8080/",
     "height": 481
    },
    "id": "vZE7RyQhAn0y",
    "outputId": "b63c7399-1f2b-49f7-869d-db702dccef0c"
   },
   "outputs": [
    {
     "data": {
      "text/html": [
       "<div>\n",
       "<style scoped>\n",
       "    .dataframe tbody tr th:only-of-type {\n",
       "        vertical-align: middle;\n",
       "    }\n",
       "\n",
       "    .dataframe tbody tr th {\n",
       "        vertical-align: top;\n",
       "    }\n",
       "\n",
       "    .dataframe thead th {\n",
       "        text-align: right;\n",
       "    }\n",
       "</style>\n",
       "<table border=\"1\" class=\"dataframe\">\n",
       "  <thead>\n",
       "    <tr style=\"text-align: right;\">\n",
       "      <th></th>\n",
       "      <th>Indicador</th>\n",
       "      <th>Idade</th>\n",
       "      <th>Genero</th>\n",
       "      <th>Dependentes</th>\n",
       "      <th>Escolaridade</th>\n",
       "      <th>Estado_Civil</th>\n",
       "      <th>Renda</th>\n",
       "      <th>Cartao</th>\n",
       "      <th>Limite_Credito</th>\n",
       "      <th>Cartao_Num</th>\n",
       "      <th>...</th>\n",
       "      <th>Escolaridade_Pós-Graduação</th>\n",
       "      <th>Escolaridade_Sem Escolaridade</th>\n",
       "      <th>Estado_Civil_Casado</th>\n",
       "      <th>Estado_Civil_Divorciado</th>\n",
       "      <th>Estado_Civil_Solteiro</th>\n",
       "      <th>Renda_De 40 Mil a 60 Mil</th>\n",
       "      <th>Renda_De 60 Mil a 80 Mil</th>\n",
       "      <th>Renda_De 80 Mil a 120 Mil</th>\n",
       "      <th>Renda_Mais de 120 Mil</th>\n",
       "      <th>Renda_Menos de 40 Mil</th>\n",
       "    </tr>\n",
       "  </thead>\n",
       "  <tbody>\n",
       "    <tr>\n",
       "      <th>0</th>\n",
       "      <td>0</td>\n",
       "      <td>45</td>\n",
       "      <td>M</td>\n",
       "      <td>3</td>\n",
       "      <td>Ensino Médio Completo</td>\n",
       "      <td>Casado</td>\n",
       "      <td>De 60 Mil a 80 Mil</td>\n",
       "      <td>Blue</td>\n",
       "      <td>12691.0</td>\n",
       "      <td>1</td>\n",
       "      <td>...</td>\n",
       "      <td>False</td>\n",
       "      <td>False</td>\n",
       "      <td>True</td>\n",
       "      <td>False</td>\n",
       "      <td>False</td>\n",
       "      <td>False</td>\n",
       "      <td>True</td>\n",
       "      <td>False</td>\n",
       "      <td>False</td>\n",
       "      <td>False</td>\n",
       "    </tr>\n",
       "    <tr>\n",
       "      <th>1</th>\n",
       "      <td>0</td>\n",
       "      <td>49</td>\n",
       "      <td>F</td>\n",
       "      <td>5</td>\n",
       "      <td>Pós-Graduação</td>\n",
       "      <td>Solteiro</td>\n",
       "      <td>Menos de 40 Mil</td>\n",
       "      <td>Blue</td>\n",
       "      <td>8256.0</td>\n",
       "      <td>1</td>\n",
       "      <td>...</td>\n",
       "      <td>True</td>\n",
       "      <td>False</td>\n",
       "      <td>False</td>\n",
       "      <td>False</td>\n",
       "      <td>True</td>\n",
       "      <td>False</td>\n",
       "      <td>False</td>\n",
       "      <td>False</td>\n",
       "      <td>False</td>\n",
       "      <td>True</td>\n",
       "    </tr>\n",
       "    <tr>\n",
       "      <th>2</th>\n",
       "      <td>0</td>\n",
       "      <td>51</td>\n",
       "      <td>M</td>\n",
       "      <td>3</td>\n",
       "      <td>Pós-Graduação</td>\n",
       "      <td>Casado</td>\n",
       "      <td>De 80 Mil a 120 Mil</td>\n",
       "      <td>Blue</td>\n",
       "      <td>3418.0</td>\n",
       "      <td>1</td>\n",
       "      <td>...</td>\n",
       "      <td>True</td>\n",
       "      <td>False</td>\n",
       "      <td>True</td>\n",
       "      <td>False</td>\n",
       "      <td>False</td>\n",
       "      <td>False</td>\n",
       "      <td>False</td>\n",
       "      <td>True</td>\n",
       "      <td>False</td>\n",
       "      <td>False</td>\n",
       "    </tr>\n",
       "    <tr>\n",
       "      <th>4</th>\n",
       "      <td>0</td>\n",
       "      <td>40</td>\n",
       "      <td>M</td>\n",
       "      <td>3</td>\n",
       "      <td>Sem Escolaridade</td>\n",
       "      <td>Casado</td>\n",
       "      <td>De 60 Mil a 80 Mil</td>\n",
       "      <td>Blue</td>\n",
       "      <td>4716.0</td>\n",
       "      <td>1</td>\n",
       "      <td>...</td>\n",
       "      <td>False</td>\n",
       "      <td>True</td>\n",
       "      <td>True</td>\n",
       "      <td>False</td>\n",
       "      <td>False</td>\n",
       "      <td>False</td>\n",
       "      <td>True</td>\n",
       "      <td>False</td>\n",
       "      <td>False</td>\n",
       "      <td>False</td>\n",
       "    </tr>\n",
       "    <tr>\n",
       "      <th>5</th>\n",
       "      <td>0</td>\n",
       "      <td>44</td>\n",
       "      <td>M</td>\n",
       "      <td>2</td>\n",
       "      <td>Pós-Graduação</td>\n",
       "      <td>Casado</td>\n",
       "      <td>De 40 Mil a 60 Mil</td>\n",
       "      <td>Blue</td>\n",
       "      <td>4010.0</td>\n",
       "      <td>1</td>\n",
       "      <td>...</td>\n",
       "      <td>True</td>\n",
       "      <td>False</td>\n",
       "      <td>True</td>\n",
       "      <td>False</td>\n",
       "      <td>False</td>\n",
       "      <td>True</td>\n",
       "      <td>False</td>\n",
       "      <td>False</td>\n",
       "      <td>False</td>\n",
       "      <td>False</td>\n",
       "    </tr>\n",
       "  </tbody>\n",
       "</table>\n",
       "<p>5 rows × 41 columns</p>\n",
       "</div>"
      ],
      "text/plain": [
       "   Indicador  Idade Genero  Dependentes           Escolaridade Estado_Civil  \\\n",
       "0          0     45      M            3  Ensino Médio Completo       Casado   \n",
       "1          0     49      F            5          Pós-Graduação     Solteiro   \n",
       "2          0     51      M            3          Pós-Graduação       Casado   \n",
       "4          0     40      M            3       Sem Escolaridade       Casado   \n",
       "5          0     44      M            2          Pós-Graduação       Casado   \n",
       "\n",
       "                 Renda Cartao  Limite_Credito  Cartao_Num  ...  \\\n",
       "0   De 60 Mil a 80 Mil   Blue         12691.0           1  ...   \n",
       "1      Menos de 40 Mil   Blue          8256.0           1  ...   \n",
       "2  De 80 Mil a 120 Mil   Blue          3418.0           1  ...   \n",
       "4   De 60 Mil a 80 Mil   Blue          4716.0           1  ...   \n",
       "5   De 40 Mil a 60 Mil   Blue          4010.0           1  ...   \n",
       "\n",
       "   Escolaridade_Pós-Graduação  Escolaridade_Sem Escolaridade  \\\n",
       "0                       False                          False   \n",
       "1                        True                          False   \n",
       "2                        True                          False   \n",
       "4                       False                           True   \n",
       "5                        True                          False   \n",
       "\n",
       "   Estado_Civil_Casado  Estado_Civil_Divorciado  Estado_Civil_Solteiro  \\\n",
       "0                 True                    False                  False   \n",
       "1                False                    False                   True   \n",
       "2                 True                    False                  False   \n",
       "4                 True                    False                  False   \n",
       "5                 True                    False                  False   \n",
       "\n",
       "   Renda_De 40 Mil a 60 Mil  Renda_De 60 Mil a 80 Mil  \\\n",
       "0                     False                      True   \n",
       "1                     False                     False   \n",
       "2                     False                     False   \n",
       "4                     False                      True   \n",
       "5                      True                     False   \n",
       "\n",
       "   Renda_De 80 Mil a 120 Mil  Renda_Mais de 120 Mil  Renda_Menos de 40 Mil  \n",
       "0                      False                  False                  False  \n",
       "1                      False                  False                   True  \n",
       "2                       True                  False                  False  \n",
       "4                      False                  False                  False  \n",
       "5                      False                  False                  False  \n",
       "\n",
       "[5 rows x 41 columns]"
      ]
     },
     "execution_count": 54,
     "metadata": {},
     "output_type": "execute_result"
    }
   ],
   "source": [
    "#criar dummies da escolaridade, estado civil e renda\n",
    "\n",
    "# Criando dummies para a variável Escolaridade\n",
    "df_dummies_escolaridade = pd.get_dummies(df3['Escolaridade'], prefix='Escolaridade')\n",
    "\n",
    "# Criando dummies para a variável Estado_Civil\n",
    "df_dummies_estado_civil = pd.get_dummies(df3['Estado_Civil'], prefix='Estado_Civil')\n",
    "\n",
    "# Criando dummies para a variável Estado_Civil\n",
    "df_dummies_renda = pd.get_dummies(df3['Renda'], prefix='Renda')\n",
    "\n",
    "# Concatenando as dummies ao DataFrame original\n",
    "df3 = pd.concat([df3, df_dummies_escolaridade, df_dummies_estado_civil, df_dummies_renda], axis=1)\n",
    "\n",
    "# Exibindo as primeiras linhas do DataFrame com as dummies\n",
    "df3.head()"
   ]
  },
  {
   "cell_type": "code",
   "execution_count": 55,
   "id": "DWuljbLxAn3J",
   "metadata": {
    "colab": {
     "base_uri": "https://localhost:8080/"
    },
    "id": "DWuljbLxAn3J",
    "outputId": "c532efca-ec95-4192-882c-736d3a48f326"
   },
   "outputs": [
    {
     "name": "stdout",
     "output_type": "stream",
     "text": [
      "<class 'pandas.core.frame.DataFrame'>\n",
      "Index: 8348 entries, 0 to 10126\n",
      "Data columns (total 41 columns):\n",
      " #   Column                                 Non-Null Count  Dtype  \n",
      "---  ------                                 --------------  -----  \n",
      " 0   Indicador                              8348 non-null   int64  \n",
      " 1   Idade                                  8348 non-null   int64  \n",
      " 2   Genero                                 8348 non-null   object \n",
      " 3   Dependentes                            8348 non-null   int64  \n",
      " 4   Escolaridade                           8348 non-null   object \n",
      " 5   Estado_Civil                           8348 non-null   object \n",
      " 6   Renda                                  8348 non-null   object \n",
      " 7   Cartao                                 8348 non-null   object \n",
      " 8   Limite_Credito                         8348 non-null   float64\n",
      " 9   Cartao_Num                             8348 non-null   int64  \n",
      " 10  Genero_Num                             8348 non-null   int64  \n",
      " 11  Escolaridade_Desconhecido              8348 non-null   bool   \n",
      " 12  Escolaridade_Doutorado                 8348 non-null   bool   \n",
      " 13  Escolaridade_Ensino Médio Completo     8348 non-null   bool   \n",
      " 14  Escolaridade_Ensino Superior Completo  8348 non-null   bool   \n",
      " 15  Escolaridade_Mestrado                  8348 non-null   bool   \n",
      " 16  Escolaridade_Pós-Graduação             8348 non-null   bool   \n",
      " 17  Escolaridade_Sem Escolaridade          8348 non-null   bool   \n",
      " 18  Estado_Civil_Casado                    8348 non-null   bool   \n",
      " 19  Estado_Civil_Divorciado                8348 non-null   bool   \n",
      " 20  Estado_Civil_Solteiro                  8348 non-null   bool   \n",
      " 21  Renda_De 40 Mil a 60 Mil               8348 non-null   bool   \n",
      " 22  Renda_De 60 Mil a 80 Mil               8348 non-null   bool   \n",
      " 23  Renda_De 80 Mil a 120 Mil              8348 non-null   bool   \n",
      " 24  Renda_Mais de 120 Mil                  8348 non-null   bool   \n",
      " 25  Renda_Menos de 40 Mil                  8348 non-null   bool   \n",
      " 26  Escolaridade_Desconhecido              8348 non-null   bool   \n",
      " 27  Escolaridade_Doutorado                 8348 non-null   bool   \n",
      " 28  Escolaridade_Ensino Médio Completo     8348 non-null   bool   \n",
      " 29  Escolaridade_Ensino Superior Completo  8348 non-null   bool   \n",
      " 30  Escolaridade_Mestrado                  8348 non-null   bool   \n",
      " 31  Escolaridade_Pós-Graduação             8348 non-null   bool   \n",
      " 32  Escolaridade_Sem Escolaridade          8348 non-null   bool   \n",
      " 33  Estado_Civil_Casado                    8348 non-null   bool   \n",
      " 34  Estado_Civil_Divorciado                8348 non-null   bool   \n",
      " 35  Estado_Civil_Solteiro                  8348 non-null   bool   \n",
      " 36  Renda_De 40 Mil a 60 Mil               8348 non-null   bool   \n",
      " 37  Renda_De 60 Mil a 80 Mil               8348 non-null   bool   \n",
      " 38  Renda_De 80 Mil a 120 Mil              8348 non-null   bool   \n",
      " 39  Renda_Mais de 120 Mil                  8348 non-null   bool   \n",
      " 40  Renda_Menos de 40 Mil                  8348 non-null   bool   \n",
      "dtypes: bool(30), float64(1), int64(5), object(5)\n",
      "memory usage: 1.0+ MB\n"
     ]
    }
   ],
   "source": [
    "df3.info()"
   ]
  },
  {
   "cell_type": "code",
   "execution_count": 56,
   "id": "ATMiQrJLKjWO",
   "metadata": {
    "colab": {
     "base_uri": "https://localhost:8080/",
     "height": 384
    },
    "id": "ATMiQrJLKjWO",
    "outputId": "a6875e52-14c3-4079-eef7-d0c453a8d5bc"
   },
   "outputs": [
    {
     "data": {
      "text/html": [
       "<div>\n",
       "<style scoped>\n",
       "    .dataframe tbody tr th:only-of-type {\n",
       "        vertical-align: middle;\n",
       "    }\n",
       "\n",
       "    .dataframe tbody tr th {\n",
       "        vertical-align: top;\n",
       "    }\n",
       "\n",
       "    .dataframe thead th {\n",
       "        text-align: right;\n",
       "    }\n",
       "</style>\n",
       "<table border=\"1\" class=\"dataframe\">\n",
       "  <thead>\n",
       "    <tr style=\"text-align: right;\">\n",
       "      <th></th>\n",
       "      <th>Indicador</th>\n",
       "      <th>Idade</th>\n",
       "      <th>Dependentes</th>\n",
       "      <th>Limite_Credito</th>\n",
       "      <th>Cartao_Num</th>\n",
       "      <th>Genero_Num</th>\n",
       "    </tr>\n",
       "  </thead>\n",
       "  <tbody>\n",
       "    <tr>\n",
       "      <th>count</th>\n",
       "      <td>8348.000000</td>\n",
       "      <td>8348.000000</td>\n",
       "      <td>8348.000000</td>\n",
       "      <td>8348.000000</td>\n",
       "      <td>8348.000000</td>\n",
       "      <td>8348.000000</td>\n",
       "    </tr>\n",
       "    <tr>\n",
       "      <th>mean</th>\n",
       "      <td>0.159080</td>\n",
       "      <td>46.378654</td>\n",
       "      <td>2.340201</td>\n",
       "      <td>8455.716507</td>\n",
       "      <td>0.932199</td>\n",
       "      <td>0.521083</td>\n",
       "    </tr>\n",
       "    <tr>\n",
       "      <th>std</th>\n",
       "      <td>0.365773</td>\n",
       "      <td>8.020535</td>\n",
       "      <td>1.297205</td>\n",
       "      <td>9094.793763</td>\n",
       "      <td>0.251419</td>\n",
       "      <td>0.499585</td>\n",
       "    </tr>\n",
       "    <tr>\n",
       "      <th>min</th>\n",
       "      <td>0.000000</td>\n",
       "      <td>26.000000</td>\n",
       "      <td>0.000000</td>\n",
       "      <td>1438.300000</td>\n",
       "      <td>0.000000</td>\n",
       "      <td>0.000000</td>\n",
       "    </tr>\n",
       "    <tr>\n",
       "      <th>25%</th>\n",
       "      <td>0.000000</td>\n",
       "      <td>41.000000</td>\n",
       "      <td>1.000000</td>\n",
       "      <td>2492.000000</td>\n",
       "      <td>1.000000</td>\n",
       "      <td>0.000000</td>\n",
       "    </tr>\n",
       "    <tr>\n",
       "      <th>50%</th>\n",
       "      <td>0.000000</td>\n",
       "      <td>46.000000</td>\n",
       "      <td>2.000000</td>\n",
       "      <td>4267.500000</td>\n",
       "      <td>1.000000</td>\n",
       "      <td>1.000000</td>\n",
       "    </tr>\n",
       "    <tr>\n",
       "      <th>75%</th>\n",
       "      <td>0.000000</td>\n",
       "      <td>52.000000</td>\n",
       "      <td>3.000000</td>\n",
       "      <td>10683.500000</td>\n",
       "      <td>1.000000</td>\n",
       "      <td>1.000000</td>\n",
       "    </tr>\n",
       "    <tr>\n",
       "      <th>max</th>\n",
       "      <td>1.000000</td>\n",
       "      <td>73.000000</td>\n",
       "      <td>5.000000</td>\n",
       "      <td>34516.000000</td>\n",
       "      <td>1.000000</td>\n",
       "      <td>1.000000</td>\n",
       "    </tr>\n",
       "  </tbody>\n",
       "</table>\n",
       "</div>"
      ],
      "text/plain": [
       "         Indicador        Idade  Dependentes  Limite_Credito   Cartao_Num  \\\n",
       "count  8348.000000  8348.000000  8348.000000     8348.000000  8348.000000   \n",
       "mean      0.159080    46.378654     2.340201     8455.716507     0.932199   \n",
       "std       0.365773     8.020535     1.297205     9094.793763     0.251419   \n",
       "min       0.000000    26.000000     0.000000     1438.300000     0.000000   \n",
       "25%       0.000000    41.000000     1.000000     2492.000000     1.000000   \n",
       "50%       0.000000    46.000000     2.000000     4267.500000     1.000000   \n",
       "75%       0.000000    52.000000     3.000000    10683.500000     1.000000   \n",
       "max       1.000000    73.000000     5.000000    34516.000000     1.000000   \n",
       "\n",
       "        Genero_Num  \n",
       "count  8348.000000  \n",
       "mean      0.521083  \n",
       "std       0.499585  \n",
       "min       0.000000  \n",
       "25%       0.000000  \n",
       "50%       1.000000  \n",
       "75%       1.000000  \n",
       "max       1.000000  "
      ]
     },
     "execution_count": 56,
     "metadata": {},
     "output_type": "execute_result"
    }
   ],
   "source": [
    "df3.describe()"
   ]
  },
  {
   "cell_type": "markdown",
   "id": "87601944-0aaa-47f0-aac4-79ad023293f0",
   "metadata": {},
   "source": [
    "### Transformação de dados numéricos"
   ]
  },
  {
   "cell_type": "markdown",
   "id": "Lt35tSPCOiU4",
   "metadata": {
    "id": "Lt35tSPCOiU4"
   },
   "source": [
    "Normalizar os dados é uma etapa crucial em ciência de dados por várias razões:\n",
    "\n",
    "Consistência: Normalizar os dados ajuda a garantir que todas as variáveis estejam na mesma escala, o que é especialmente importante para algoritmos que dependem da distância entre pontos, como K-means e K-Nearest Neighbors.\n",
    "\n",
    "Velocidade de Convergência: Em algoritmos de aprendizado de máquina, como redes neurais, a normalização pode acelerar a convergência durante o treinamento, tornando o processo mais eficiente.\n",
    "\n",
    "Melhor Desempenho: Modelos de aprendizado de máquina geralmente têm um desempenho melhor quando os dados são normalizados, pois isso evita que variáveis com escalas maiores dominem o modelo.\n",
    "\n",
    "Redução de Erros: A normalização pode ajudar a reduzir erros numéricos durante os cálculos, especialmente em algoritmos que envolvem operações matriciais."
   ]
  },
  {
   "cell_type": "markdown",
   "id": "e744c7b9-2e51-4992-9650-8c34ffbe7c95",
   "metadata": {},
   "source": [
    "* Escalas diferentes influenciam os algoritmos de forma diferente, dando mais peso para 1 que outro."
   ]
  },
  {
   "cell_type": "markdown",
   "id": "24cd4465-62db-46be-a6b4-4f4ec2776a2b",
   "metadata": {},
   "source": [
    "https://scikit-learn.org/dev/modules/generated/sklearn.preprocessing.MinMaxScaler.html"
   ]
  },
  {
   "cell_type": "markdown",
   "id": "2862f19b-dd10-47ca-9900-1061d73ccfec",
   "metadata": {},
   "source": [
    "#### MinMax scaler"
   ]
  },
  {
   "cell_type": "code",
   "execution_count": 60,
   "id": "004bd5b8-6cd0-4734-b790-e8d50f95ced8",
   "metadata": {},
   "outputs": [],
   "source": [
    "# exemplo do minmax scaler\n",
    "\n",
    "idade_max = df3.Idade.max()\n",
    "idade_min = df3.Idade.min()\n",
    "\n",
    "df3['Idade_SC_'] = (df3['Idade'] - idade_min) / (idade_max - idade_min)"
   ]
  },
  {
   "cell_type": "code",
   "execution_count": 72,
   "id": "24db6761-22c9-4f1c-b4da-382ef650c5a7",
   "metadata": {},
   "outputs": [
    {
     "ename": "NotImplementedError",
     "evalue": "",
     "output_type": "error",
     "traceback": [
      "\u001b[0;31m---------------------------------------------------------------------------\u001b[0m",
      "\u001b[0;31mNotImplementedError\u001b[0m                       Traceback (most recent call last)",
      "\u001b[0;32m/tmp/ipykernel_75169/1769505551.py\u001b[0m in \u001b[0;36m?\u001b[0;34m()\u001b[0m\n\u001b[1;32m      9\u001b[0m \u001b[0mcols_to_scale\u001b[0m \u001b[0;34m=\u001b[0m \u001b[0;34m[\u001b[0m\u001b[0;34m'Idade'\u001b[0m\u001b[0;34m,\u001b[0m \u001b[0;34m'Dependentes'\u001b[0m\u001b[0;34m,\u001b[0m \u001b[0;34m'Limite_Credito'\u001b[0m\u001b[0;34m]\u001b[0m\u001b[0;34m\u001b[0m\u001b[0;34m\u001b[0m\u001b[0m\n\u001b[1;32m     10\u001b[0m \u001b[0mcols_scaled\u001b[0m \u001b[0;34m=\u001b[0m \u001b[0;34m[\u001b[0m\u001b[0;34m'Idade_SC'\u001b[0m\u001b[0;34m,\u001b[0m \u001b[0;34m'Dependentes_SC'\u001b[0m\u001b[0;34m,\u001b[0m \u001b[0;34m'Limite_Credito_SC'\u001b[0m\u001b[0;34m]\u001b[0m\u001b[0;34m\u001b[0m\u001b[0;34m\u001b[0m\u001b[0m\n\u001b[1;32m     11\u001b[0m \u001b[0;34m\u001b[0m\u001b[0m\n\u001b[1;32m     12\u001b[0m \u001b[0;31m# Aplique o StandardScaler às colunas selecionadas\u001b[0m\u001b[0;34m\u001b[0m\u001b[0;34m\u001b[0m\u001b[0m\n\u001b[0;32m---> 13\u001b[0;31m \u001b[0mdf3\u001b[0m\u001b[0;34m[\u001b[0m\u001b[0mcols_scaled\u001b[0m\u001b[0;34m]\u001b[0m \u001b[0;34m=\u001b[0m \u001b[0mscaler\u001b[0m\u001b[0;34m.\u001b[0m\u001b[0mfit_transform\u001b[0m\u001b[0;34m(\u001b[0m\u001b[0mdf3\u001b[0m\u001b[0;34m[\u001b[0m\u001b[0mcols_to_scale\u001b[0m\u001b[0;34m]\u001b[0m\u001b[0;34m.\u001b[0m\u001b[0mvalues\u001b[0m\u001b[0;34m)\u001b[0m\u001b[0;34m\u001b[0m\u001b[0;34m\u001b[0m\u001b[0m\n\u001b[0m\u001b[1;32m     14\u001b[0m \u001b[0;34m\u001b[0m\u001b[0m\n\u001b[1;32m     15\u001b[0m \u001b[0;31m# Exiba as primeiras linhas do DataFrame com as colunas escalonadas\u001b[0m\u001b[0;34m\u001b[0m\u001b[0;34m\u001b[0m\u001b[0m\n\u001b[1;32m     16\u001b[0m \u001b[0mdf3\u001b[0m\u001b[0;34m.\u001b[0m\u001b[0mhead\u001b[0m\u001b[0;34m(\u001b[0m\u001b[0;34m)\u001b[0m\u001b[0;34m\u001b[0m\u001b[0;34m\u001b[0m\u001b[0m\n",
      "\u001b[0;32m~/.pyenv/versions/3.11.9/lib/python3.11/site-packages/pandas/core/frame.py\u001b[0m in \u001b[0;36m?\u001b[0;34m(self, key, value)\u001b[0m\n\u001b[1;32m   4295\u001b[0m \u001b[0;34m\u001b[0m\u001b[0m\n\u001b[1;32m   4296\u001b[0m         \u001b[0;32mif\u001b[0m \u001b[0misinstance\u001b[0m\u001b[0;34m(\u001b[0m\u001b[0mkey\u001b[0m\u001b[0;34m,\u001b[0m \u001b[0mDataFrame\u001b[0m\u001b[0;34m)\u001b[0m \u001b[0;32mor\u001b[0m \u001b[0mgetattr\u001b[0m\u001b[0;34m(\u001b[0m\u001b[0mkey\u001b[0m\u001b[0;34m,\u001b[0m \u001b[0;34m\"ndim\"\u001b[0m\u001b[0;34m,\u001b[0m \u001b[0;32mNone\u001b[0m\u001b[0;34m)\u001b[0m \u001b[0;34m==\u001b[0m \u001b[0;36m2\u001b[0m\u001b[0;34m:\u001b[0m\u001b[0;34m\u001b[0m\u001b[0;34m\u001b[0m\u001b[0m\n\u001b[1;32m   4297\u001b[0m             \u001b[0mself\u001b[0m\u001b[0;34m.\u001b[0m\u001b[0m_setitem_frame\u001b[0m\u001b[0;34m(\u001b[0m\u001b[0mkey\u001b[0m\u001b[0;34m,\u001b[0m \u001b[0mvalue\u001b[0m\u001b[0;34m)\u001b[0m\u001b[0;34m\u001b[0m\u001b[0;34m\u001b[0m\u001b[0m\n\u001b[1;32m   4298\u001b[0m         \u001b[0;32melif\u001b[0m \u001b[0misinstance\u001b[0m\u001b[0;34m(\u001b[0m\u001b[0mkey\u001b[0m\u001b[0;34m,\u001b[0m \u001b[0;34m(\u001b[0m\u001b[0mSeries\u001b[0m\u001b[0;34m,\u001b[0m \u001b[0mnp\u001b[0m\u001b[0;34m.\u001b[0m\u001b[0mndarray\u001b[0m\u001b[0;34m,\u001b[0m \u001b[0mlist\u001b[0m\u001b[0;34m,\u001b[0m \u001b[0mIndex\u001b[0m\u001b[0;34m)\u001b[0m\u001b[0;34m)\u001b[0m\u001b[0;34m:\u001b[0m\u001b[0;34m\u001b[0m\u001b[0;34m\u001b[0m\u001b[0m\n\u001b[0;32m-> 4299\u001b[0;31m             \u001b[0mself\u001b[0m\u001b[0;34m.\u001b[0m\u001b[0m_setitem_array\u001b[0m\u001b[0;34m(\u001b[0m\u001b[0mkey\u001b[0m\u001b[0;34m,\u001b[0m \u001b[0mvalue\u001b[0m\u001b[0;34m)\u001b[0m\u001b[0;34m\u001b[0m\u001b[0;34m\u001b[0m\u001b[0m\n\u001b[0m\u001b[1;32m   4300\u001b[0m         \u001b[0;32melif\u001b[0m \u001b[0misinstance\u001b[0m\u001b[0;34m(\u001b[0m\u001b[0mvalue\u001b[0m\u001b[0;34m,\u001b[0m \u001b[0mDataFrame\u001b[0m\u001b[0;34m)\u001b[0m\u001b[0;34m:\u001b[0m\u001b[0;34m\u001b[0m\u001b[0;34m\u001b[0m\u001b[0m\n\u001b[1;32m   4301\u001b[0m             \u001b[0mself\u001b[0m\u001b[0;34m.\u001b[0m\u001b[0m_set_item_frame_value\u001b[0m\u001b[0;34m(\u001b[0m\u001b[0mkey\u001b[0m\u001b[0;34m,\u001b[0m \u001b[0mvalue\u001b[0m\u001b[0;34m)\u001b[0m\u001b[0;34m\u001b[0m\u001b[0;34m\u001b[0m\u001b[0m\n\u001b[1;32m   4302\u001b[0m         elif (\n",
      "\u001b[0;32m~/.pyenv/versions/3.11.9/lib/python3.11/site-packages/pandas/core/frame.py\u001b[0m in \u001b[0;36m?\u001b[0;34m(self, key, value)\u001b[0m\n\u001b[1;32m   4346\u001b[0m                 \u001b[0;32mfor\u001b[0m \u001b[0mcol\u001b[0m \u001b[0;32min\u001b[0m \u001b[0mkey\u001b[0m\u001b[0;34m:\u001b[0m\u001b[0;34m\u001b[0m\u001b[0;34m\u001b[0m\u001b[0m\n\u001b[1;32m   4347\u001b[0m                     \u001b[0mself\u001b[0m\u001b[0;34m[\u001b[0m\u001b[0mcol\u001b[0m\u001b[0;34m]\u001b[0m \u001b[0;34m=\u001b[0m \u001b[0mvalue\u001b[0m\u001b[0;34m\u001b[0m\u001b[0;34m\u001b[0m\u001b[0m\n\u001b[1;32m   4348\u001b[0m \u001b[0;34m\u001b[0m\u001b[0m\n\u001b[1;32m   4349\u001b[0m             \u001b[0;32melif\u001b[0m \u001b[0misinstance\u001b[0m\u001b[0;34m(\u001b[0m\u001b[0mvalue\u001b[0m\u001b[0;34m,\u001b[0m \u001b[0mnp\u001b[0m\u001b[0;34m.\u001b[0m\u001b[0mndarray\u001b[0m\u001b[0;34m)\u001b[0m \u001b[0;32mand\u001b[0m \u001b[0mvalue\u001b[0m\u001b[0;34m.\u001b[0m\u001b[0mndim\u001b[0m \u001b[0;34m==\u001b[0m \u001b[0;36m2\u001b[0m\u001b[0;34m:\u001b[0m\u001b[0;34m\u001b[0m\u001b[0;34m\u001b[0m\u001b[0m\n\u001b[0;32m-> 4350\u001b[0;31m                 \u001b[0mself\u001b[0m\u001b[0;34m.\u001b[0m\u001b[0m_iset_not_inplace\u001b[0m\u001b[0;34m(\u001b[0m\u001b[0mkey\u001b[0m\u001b[0;34m,\u001b[0m \u001b[0mvalue\u001b[0m\u001b[0;34m)\u001b[0m\u001b[0;34m\u001b[0m\u001b[0;34m\u001b[0m\u001b[0m\n\u001b[0m\u001b[1;32m   4351\u001b[0m \u001b[0;34m\u001b[0m\u001b[0m\n\u001b[1;32m   4352\u001b[0m             \u001b[0;32melif\u001b[0m \u001b[0mnp\u001b[0m\u001b[0;34m.\u001b[0m\u001b[0mndim\u001b[0m\u001b[0;34m(\u001b[0m\u001b[0mvalue\u001b[0m\u001b[0;34m)\u001b[0m \u001b[0;34m>\u001b[0m \u001b[0;36m1\u001b[0m\u001b[0;34m:\u001b[0m\u001b[0;34m\u001b[0m\u001b[0;34m\u001b[0m\u001b[0m\n\u001b[1;32m   4353\u001b[0m                 \u001b[0;31m# list of lists\u001b[0m\u001b[0;34m\u001b[0m\u001b[0;34m\u001b[0m\u001b[0m\n",
      "\u001b[0;32m~/.pyenv/versions/3.11.9/lib/python3.11/site-packages/pandas/core/frame.py\u001b[0m in \u001b[0;36m?\u001b[0;34m(self, key, value)\u001b[0m\n\u001b[1;32m   4382\u001b[0m         \u001b[0;32melse\u001b[0m\u001b[0;34m:\u001b[0m\u001b[0;34m\u001b[0m\u001b[0;34m\u001b[0m\u001b[0m\n\u001b[1;32m   4383\u001b[0m             \u001b[0milocs\u001b[0m \u001b[0;34m=\u001b[0m \u001b[0mself\u001b[0m\u001b[0;34m.\u001b[0m\u001b[0mcolumns\u001b[0m\u001b[0;34m.\u001b[0m\u001b[0mget_indexer_non_unique\u001b[0m\u001b[0;34m(\u001b[0m\u001b[0mkey\u001b[0m\u001b[0;34m)\u001b[0m\u001b[0;34m[\u001b[0m\u001b[0;36m0\u001b[0m\u001b[0;34m]\u001b[0m\u001b[0;34m\u001b[0m\u001b[0;34m\u001b[0m\u001b[0m\n\u001b[1;32m   4384\u001b[0m             \u001b[0;32mif\u001b[0m \u001b[0;34m(\u001b[0m\u001b[0milocs\u001b[0m \u001b[0;34m<\u001b[0m \u001b[0;36m0\u001b[0m\u001b[0;34m)\u001b[0m\u001b[0;34m.\u001b[0m\u001b[0many\u001b[0m\u001b[0;34m(\u001b[0m\u001b[0;34m)\u001b[0m\u001b[0;34m:\u001b[0m\u001b[0;34m\u001b[0m\u001b[0;34m\u001b[0m\u001b[0m\n\u001b[1;32m   4385\u001b[0m                 \u001b[0;31m# key entries not in self.columns\u001b[0m\u001b[0;34m\u001b[0m\u001b[0;34m\u001b[0m\u001b[0m\n\u001b[0;32m-> 4386\u001b[0;31m                 \u001b[0;32mraise\u001b[0m \u001b[0mNotImplementedError\u001b[0m\u001b[0;34m\u001b[0m\u001b[0;34m\u001b[0m\u001b[0m\n\u001b[0m\u001b[1;32m   4387\u001b[0m \u001b[0;34m\u001b[0m\u001b[0m\n\u001b[1;32m   4388\u001b[0m             \u001b[0;32mif\u001b[0m \u001b[0mnp\u001b[0m\u001b[0;34m.\u001b[0m\u001b[0mshape\u001b[0m\u001b[0;34m(\u001b[0m\u001b[0mvalue\u001b[0m\u001b[0;34m)\u001b[0m\u001b[0;34m[\u001b[0m\u001b[0;34m-\u001b[0m\u001b[0;36m1\u001b[0m\u001b[0;34m]\u001b[0m \u001b[0;34m!=\u001b[0m \u001b[0mlen\u001b[0m\u001b[0;34m(\u001b[0m\u001b[0milocs\u001b[0m\u001b[0;34m)\u001b[0m\u001b[0;34m:\u001b[0m\u001b[0;34m\u001b[0m\u001b[0;34m\u001b[0m\u001b[0m\n\u001b[1;32m   4389\u001b[0m                 \u001b[0;32mraise\u001b[0m \u001b[0mValueError\u001b[0m\u001b[0;34m(\u001b[0m\u001b[0;34m\"Columns must be same length as key\"\u001b[0m\u001b[0;34m)\u001b[0m\u001b[0;34m\u001b[0m\u001b[0;34m\u001b[0m\u001b[0m\n",
      "\u001b[0;31mNotImplementedError\u001b[0m: "
     ]
    }
   ],
   "source": [
    "# normalizar idade, dependentes e limite_credito\n",
    "\n",
    "from sklearn.preprocessing import MinMaxScaler\n",
    "\n",
    "# Crie um objeto StandardScaler\n",
    "scaler = MinMaxScaler()\n",
    "\n",
    "# Selecione as colunas que você deseja escalonar\n",
    "cols_to_scale = ['Idade', 'Dependentes', 'Limite_Credito']\n",
    "cols_scaled = ['Idade_SC', 'Dependentes_SC', 'Limite_Credito_SC']\n",
    "\n",
    "# Aplique o StandardScaler às colunas selecionadas\n",
    "df3[cols_scaled] = scaler.fit_transform(df3[cols_to_scale])\n",
    "\n",
    "# Exiba as primeiras linhas do DataFrame com as colunas escalonadas\n",
    "df3.head()\n"
   ]
  },
  {
   "cell_type": "code",
   "execution_count": 68,
   "id": "3a596a26-2a20-4feb-87ad-86d915254f7d",
   "metadata": {},
   "outputs": [
    {
     "ename": "KeyError",
     "evalue": "\"['Idade_SC'] not in index\"",
     "output_type": "error",
     "traceback": [
      "\u001b[0;31m---------------------------------------------------------------------------\u001b[0m",
      "\u001b[0;31mKeyError\u001b[0m                                  Traceback (most recent call last)",
      "Cell \u001b[0;32mIn[68], line 1\u001b[0m\n\u001b[0;32m----> 1\u001b[0m \u001b[43mdf3\u001b[49m\u001b[43m[\u001b[49m\u001b[43m[\u001b[49m\u001b[38;5;124;43m'\u001b[39;49m\u001b[38;5;124;43mIdade\u001b[39;49m\u001b[38;5;124;43m'\u001b[39;49m\u001b[43m,\u001b[49m\u001b[43m \u001b[49m\u001b[38;5;124;43m'\u001b[39;49m\u001b[38;5;124;43mIdade_SC\u001b[39;49m\u001b[38;5;124;43m'\u001b[39;49m\u001b[43m,\u001b[49m\u001b[43m \u001b[49m\u001b[38;5;124;43m'\u001b[39;49m\u001b[38;5;124;43mIdade_SC_\u001b[39;49m\u001b[38;5;124;43m'\u001b[39;49m\u001b[43m]\u001b[49m\u001b[43m]\u001b[49m\n",
      "File \u001b[0;32m~/.pyenv/versions/3.11.9/lib/python3.11/site-packages/pandas/core/frame.py:4108\u001b[0m, in \u001b[0;36mDataFrame.__getitem__\u001b[0;34m(self, key)\u001b[0m\n\u001b[1;32m   4106\u001b[0m     \u001b[38;5;28;01mif\u001b[39;00m is_iterator(key):\n\u001b[1;32m   4107\u001b[0m         key \u001b[38;5;241m=\u001b[39m \u001b[38;5;28mlist\u001b[39m(key)\n\u001b[0;32m-> 4108\u001b[0m     indexer \u001b[38;5;241m=\u001b[39m \u001b[38;5;28;43mself\u001b[39;49m\u001b[38;5;241;43m.\u001b[39;49m\u001b[43mcolumns\u001b[49m\u001b[38;5;241;43m.\u001b[39;49m\u001b[43m_get_indexer_strict\u001b[49m\u001b[43m(\u001b[49m\u001b[43mkey\u001b[49m\u001b[43m,\u001b[49m\u001b[43m \u001b[49m\u001b[38;5;124;43m\"\u001b[39;49m\u001b[38;5;124;43mcolumns\u001b[39;49m\u001b[38;5;124;43m\"\u001b[39;49m\u001b[43m)\u001b[49m[\u001b[38;5;241m1\u001b[39m]\n\u001b[1;32m   4110\u001b[0m \u001b[38;5;66;03m# take() does not accept boolean indexers\u001b[39;00m\n\u001b[1;32m   4111\u001b[0m \u001b[38;5;28;01mif\u001b[39;00m \u001b[38;5;28mgetattr\u001b[39m(indexer, \u001b[38;5;124m\"\u001b[39m\u001b[38;5;124mdtype\u001b[39m\u001b[38;5;124m\"\u001b[39m, \u001b[38;5;28;01mNone\u001b[39;00m) \u001b[38;5;241m==\u001b[39m \u001b[38;5;28mbool\u001b[39m:\n",
      "File \u001b[0;32m~/.pyenv/versions/3.11.9/lib/python3.11/site-packages/pandas/core/indexes/base.py:6200\u001b[0m, in \u001b[0;36mIndex._get_indexer_strict\u001b[0;34m(self, key, axis_name)\u001b[0m\n\u001b[1;32m   6197\u001b[0m \u001b[38;5;28;01melse\u001b[39;00m:\n\u001b[1;32m   6198\u001b[0m     keyarr, indexer, new_indexer \u001b[38;5;241m=\u001b[39m \u001b[38;5;28mself\u001b[39m\u001b[38;5;241m.\u001b[39m_reindex_non_unique(keyarr)\n\u001b[0;32m-> 6200\u001b[0m \u001b[38;5;28;43mself\u001b[39;49m\u001b[38;5;241;43m.\u001b[39;49m\u001b[43m_raise_if_missing\u001b[49m\u001b[43m(\u001b[49m\u001b[43mkeyarr\u001b[49m\u001b[43m,\u001b[49m\u001b[43m \u001b[49m\u001b[43mindexer\u001b[49m\u001b[43m,\u001b[49m\u001b[43m \u001b[49m\u001b[43maxis_name\u001b[49m\u001b[43m)\u001b[49m\n\u001b[1;32m   6202\u001b[0m keyarr \u001b[38;5;241m=\u001b[39m \u001b[38;5;28mself\u001b[39m\u001b[38;5;241m.\u001b[39mtake(indexer)\n\u001b[1;32m   6203\u001b[0m \u001b[38;5;28;01mif\u001b[39;00m \u001b[38;5;28misinstance\u001b[39m(key, Index):\n\u001b[1;32m   6204\u001b[0m     \u001b[38;5;66;03m# GH 42790 - Preserve name from an Index\u001b[39;00m\n",
      "File \u001b[0;32m~/.pyenv/versions/3.11.9/lib/python3.11/site-packages/pandas/core/indexes/base.py:6252\u001b[0m, in \u001b[0;36mIndex._raise_if_missing\u001b[0;34m(self, key, indexer, axis_name)\u001b[0m\n\u001b[1;32m   6249\u001b[0m     \u001b[38;5;28;01mraise\u001b[39;00m \u001b[38;5;167;01mKeyError\u001b[39;00m(\u001b[38;5;124mf\u001b[39m\u001b[38;5;124m\"\u001b[39m\u001b[38;5;124mNone of [\u001b[39m\u001b[38;5;132;01m{\u001b[39;00mkey\u001b[38;5;132;01m}\u001b[39;00m\u001b[38;5;124m] are in the [\u001b[39m\u001b[38;5;132;01m{\u001b[39;00maxis_name\u001b[38;5;132;01m}\u001b[39;00m\u001b[38;5;124m]\u001b[39m\u001b[38;5;124m\"\u001b[39m)\n\u001b[1;32m   6251\u001b[0m not_found \u001b[38;5;241m=\u001b[39m \u001b[38;5;28mlist\u001b[39m(ensure_index(key)[missing_mask\u001b[38;5;241m.\u001b[39mnonzero()[\u001b[38;5;241m0\u001b[39m]]\u001b[38;5;241m.\u001b[39munique())\n\u001b[0;32m-> 6252\u001b[0m \u001b[38;5;28;01mraise\u001b[39;00m \u001b[38;5;167;01mKeyError\u001b[39;00m(\u001b[38;5;124mf\u001b[39m\u001b[38;5;124m\"\u001b[39m\u001b[38;5;132;01m{\u001b[39;00mnot_found\u001b[38;5;132;01m}\u001b[39;00m\u001b[38;5;124m not in index\u001b[39m\u001b[38;5;124m\"\u001b[39m)\n",
      "\u001b[0;31mKeyError\u001b[0m: \"['Idade_SC'] not in index\""
     ]
    }
   ],
   "source": [
    "df3[['Idade', 'Idade_SC', 'Idade_SC_']]"
   ]
  },
  {
   "cell_type": "code",
   "execution_count": null,
   "id": "c193a8c9",
   "metadata": {},
   "outputs": [],
   "source": []
  }
 ],
 "metadata": {
  "colab": {
   "provenance": []
  },
  "kernelspec": {
   "display_name": "Python 3",
   "language": "python",
   "name": "python3"
  },
  "language_info": {
   "codemirror_mode": {
    "name": "ipython",
    "version": 3
   },
   "file_extension": ".py",
   "mimetype": "text/x-python",
   "name": "python",
   "nbconvert_exporter": "python",
   "pygments_lexer": "ipython3",
   "version": "3.11.9"
  }
 },
 "nbformat": 4,
 "nbformat_minor": 5
}
