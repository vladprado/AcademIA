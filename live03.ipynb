{
 "cells": [
  {
   "cell_type": "markdown",
   "metadata": {},
   "source": [
    "Live 3 - Lendo Arquivo"
   ]
  },
  {
   "cell_type": "code",
   "execution_count": 2,
   "metadata": {},
   "outputs": [],
   "source": [
    "import pandas as pd"
   ]
  },
  {
   "cell_type": "code",
   "execution_count": 5,
   "metadata": {},
   "outputs": [
    {
     "data": {
      "text/html": [
       "<div>\n",
       "<style scoped>\n",
       "    .dataframe tbody tr th:only-of-type {\n",
       "        vertical-align: middle;\n",
       "    }\n",
       "\n",
       "    .dataframe tbody tr th {\n",
       "        vertical-align: top;\n",
       "    }\n",
       "\n",
       "    .dataframe thead th {\n",
       "        text-align: right;\n",
       "    }\n",
       "</style>\n",
       "<table border=\"1\" class=\"dataframe\">\n",
       "  <thead>\n",
       "    <tr style=\"text-align: right;\">\n",
       "      <th></th>\n",
       "      <th>cd_func</th>\n",
       "      <th>nm_func</th>\n",
       "      <th>dt_ingso</th>\n",
       "      <th>area_cmnto</th>\n",
       "      <th>dt_conc</th>\n",
       "      <th>cd_uor</th>\n",
       "      <th>nm_uor_rdz</th>\n",
       "    </tr>\n",
       "  </thead>\n",
       "  <tbody>\n",
       "    <tr>\n",
       "      <th>0</th>\n",
       "      <td>F236548</td>\n",
       "      <td>Sra. Laura Silva</td>\n",
       "      <td>2021-06-03</td>\n",
       "      <td>Ciências Biológicas</td>\n",
       "      <td>2015-10-14</td>\n",
       "      <td>55825</td>\n",
       "      <td>DIREC-CLI. VAR. PF</td>\n",
       "    </tr>\n",
       "    <tr>\n",
       "      <th>1</th>\n",
       "      <td>F236549</td>\n",
       "      <td>Henrique Ramos</td>\n",
       "      <td>2020-06-28</td>\n",
       "      <td>Engenharias</td>\n",
       "      <td>2019-03-03</td>\n",
       "      <td>55825</td>\n",
       "      <td>DIREC-CLI. VAR. PF</td>\n",
       "    </tr>\n",
       "    <tr>\n",
       "      <th>2</th>\n",
       "      <td>F236550</td>\n",
       "      <td>Marina Lopes</td>\n",
       "      <td>2015-12-08</td>\n",
       "      <td>Ciências da Saúde</td>\n",
       "      <td>2009-10-08</td>\n",
       "      <td>55825</td>\n",
       "      <td>DIREC-CLI. VAR. PF</td>\n",
       "    </tr>\n",
       "    <tr>\n",
       "      <th>3</th>\n",
       "      <td>F236551</td>\n",
       "      <td>Dra. Laura Dias</td>\n",
       "      <td>2019-03-20</td>\n",
       "      <td>Ciências Biológicas</td>\n",
       "      <td>2017-12-07</td>\n",
       "      <td>55825</td>\n",
       "      <td>DIREC-CLI. VAR. PF</td>\n",
       "    </tr>\n",
       "    <tr>\n",
       "      <th>4</th>\n",
       "      <td>F236552</td>\n",
       "      <td>Pietra Aragão</td>\n",
       "      <td>2022-11-06</td>\n",
       "      <td>Ciências Sociais Aplicadas</td>\n",
       "      <td>2014-07-01</td>\n",
       "      <td>55825</td>\n",
       "      <td>DIREC-CLI. VAR. PF</td>\n",
       "    </tr>\n",
       "    <tr>\n",
       "      <th>5</th>\n",
       "      <td>F236553</td>\n",
       "      <td>Lucas Gabriel Araújo</td>\n",
       "      <td>2015-12-15</td>\n",
       "      <td>Engenharias</td>\n",
       "      <td>2012-03-25</td>\n",
       "      <td>55825</td>\n",
       "      <td>DIREC-CLI. VAR. PF</td>\n",
       "    </tr>\n",
       "    <tr>\n",
       "      <th>6</th>\n",
       "      <td>F236554</td>\n",
       "      <td>Vitor da Cunha</td>\n",
       "      <td>2021-05-02</td>\n",
       "      <td>Ciências da Saúde</td>\n",
       "      <td>2010-01-01</td>\n",
       "      <td>55825</td>\n",
       "      <td>DIREC-CLI. VAR. PF</td>\n",
       "    </tr>\n",
       "    <tr>\n",
       "      <th>7</th>\n",
       "      <td>F236555</td>\n",
       "      <td>Samuel Barros</td>\n",
       "      <td>2014-12-31</td>\n",
       "      <td>Engenharias</td>\n",
       "      <td>2010-12-28</td>\n",
       "      <td>55825</td>\n",
       "      <td>DIREC-CLI. VAR. PF</td>\n",
       "    </tr>\n",
       "    <tr>\n",
       "      <th>8</th>\n",
       "      <td>F236556</td>\n",
       "      <td>Fernanda Teixeira</td>\n",
       "      <td>2023-07-03</td>\n",
       "      <td>Ciências Humanas</td>\n",
       "      <td>2014-03-19</td>\n",
       "      <td>55825</td>\n",
       "      <td>DIREC-CLI. VAR. PF</td>\n",
       "    </tr>\n",
       "    <tr>\n",
       "      <th>9</th>\n",
       "      <td>F236557</td>\n",
       "      <td>Vinicius Nogueira</td>\n",
       "      <td>2020-01-23</td>\n",
       "      <td>Ciências Humanas</td>\n",
       "      <td>2010-11-08</td>\n",
       "      <td>55825</td>\n",
       "      <td>DIREC-CLI. VAR. PF</td>\n",
       "    </tr>\n",
       "  </tbody>\n",
       "</table>\n",
       "</div>"
      ],
      "text/plain": [
       "   cd_func               nm_func    dt_ingso                  area_cmnto  \\\n",
       "0  F236548      Sra. Laura Silva  2021-06-03         Ciências Biológicas   \n",
       "1  F236549        Henrique Ramos  2020-06-28                 Engenharias   \n",
       "2  F236550          Marina Lopes  2015-12-08           Ciências da Saúde   \n",
       "3  F236551       Dra. Laura Dias  2019-03-20         Ciências Biológicas   \n",
       "4  F236552         Pietra Aragão  2022-11-06  Ciências Sociais Aplicadas   \n",
       "5  F236553  Lucas Gabriel Araújo  2015-12-15                 Engenharias   \n",
       "6  F236554        Vitor da Cunha  2021-05-02           Ciências da Saúde   \n",
       "7  F236555         Samuel Barros  2014-12-31                 Engenharias   \n",
       "8  F236556     Fernanda Teixeira  2023-07-03            Ciências Humanas   \n",
       "9  F236557     Vinicius Nogueira  2020-01-23            Ciências Humanas   \n",
       "\n",
       "      dt_conc cd_uor          nm_uor_rdz  \n",
       "0  2015-10-14  55825  DIREC-CLI. VAR. PF  \n",
       "1  2019-03-03  55825  DIREC-CLI. VAR. PF  \n",
       "2  2009-10-08  55825  DIREC-CLI. VAR. PF  \n",
       "3  2017-12-07  55825  DIREC-CLI. VAR. PF  \n",
       "4  2014-07-01  55825  DIREC-CLI. VAR. PF  \n",
       "5  2012-03-25  55825  DIREC-CLI. VAR. PF  \n",
       "6  2010-01-01  55825  DIREC-CLI. VAR. PF  \n",
       "7  2010-12-28  55825  DIREC-CLI. VAR. PF  \n",
       "8  2014-03-19  55825  DIREC-CLI. VAR. PF  \n",
       "9  2010-11-08  55825  DIREC-CLI. VAR. PF  "
      ]
     },
     "execution_count": 5,
     "metadata": {},
     "output_type": "execute_result"
    }
   ],
   "source": [
    "df_1 = pd.read_csv('func_dep_live3.csv', sep=';')\n",
    "df_1.head(10)"
   ]
  },
  {
   "cell_type": "code",
   "execution_count": 6,
   "metadata": {},
   "outputs": [
    {
     "name": "stdout",
     "output_type": "stream",
     "text": [
      "<class 'pandas.core.frame.DataFrame'>\n",
      "RangeIndex: 4460 entries, 0 to 4459\n",
      "Data columns (total 7 columns):\n",
      " #   Column      Non-Null Count  Dtype \n",
      "---  ------      --------------  ----- \n",
      " 0   cd_func     4460 non-null   object\n",
      " 1   nm_func     4460 non-null   object\n",
      " 2   dt_ingso    4460 non-null   object\n",
      " 3   area_cmnto  4460 non-null   object\n",
      " 4   dt_conc     4460 non-null   object\n",
      " 5   cd_uor      4436 non-null   object\n",
      " 6   nm_uor_rdz  4459 non-null   object\n",
      "dtypes: object(7)\n",
      "memory usage: 244.0+ KB\n"
     ]
    }
   ],
   "source": [
    "df_1.info()"
   ]
  },
  {
   "cell_type": "code",
   "execution_count": 17,
   "metadata": {},
   "outputs": [
    {
     "name": "stdout",
     "output_type": "stream",
     "text": [
      "<class 'pandas.core.frame.DataFrame'>\n",
      "RangeIndex: 4435 entries, 0 to 4434\n",
      "Data columns (total 7 columns):\n",
      " #   Column      Non-Null Count  Dtype \n",
      "---  ------      --------------  ----- \n",
      " 0   cd_func     4435 non-null   object\n",
      " 1   nm_func     4435 non-null   object\n",
      " 2   dt_ingso    4435 non-null   object\n",
      " 3   area_cmnto  4435 non-null   object\n",
      " 4   dt_conc     4435 non-null   object\n",
      " 5   cd_uor      4435 non-null   object\n",
      " 6   nm_uor_rdz  4435 non-null   object\n",
      "dtypes: object(7)\n",
      "memory usage: 242.7+ KB\n"
     ]
    }
   ],
   "source": [
    "func_dep = df_1.dropna(subset=['cd_uor', 'nm_uor_rdz']).reset_index(drop=True)\n",
    "func_dep.info()"
   ]
  },
  {
   "cell_type": "code",
   "execution_count": 18,
   "metadata": {},
   "outputs": [
    {
     "data": {
      "text/plain": [
       "np.True_"
      ]
     },
     "execution_count": 18,
     "metadata": {},
     "output_type": "execute_result"
    }
   ],
   "source": [
    "func_dep.duplicated(subset=['cd_func']).any()"
   ]
  },
  {
   "cell_type": "code",
   "execution_count": 19,
   "metadata": {},
   "outputs": [],
   "source": [
    "func_dep.drop_duplicates(subset=['cd_func'], inplace=True)"
   ]
  },
  {
   "cell_type": "code",
   "execution_count": 20,
   "metadata": {},
   "outputs": [
    {
     "name": "stdout",
     "output_type": "stream",
     "text": [
      "<class 'pandas.core.frame.DataFrame'>\n",
      "Index: 4433 entries, 0 to 4432\n",
      "Data columns (total 7 columns):\n",
      " #   Column      Non-Null Count  Dtype \n",
      "---  ------      --------------  ----- \n",
      " 0   cd_func     4433 non-null   object\n",
      " 1   nm_func     4433 non-null   object\n",
      " 2   dt_ingso    4433 non-null   object\n",
      " 3   area_cmnto  4433 non-null   object\n",
      " 4   dt_conc     4433 non-null   object\n",
      " 5   cd_uor      4433 non-null   object\n",
      " 6   nm_uor_rdz  4433 non-null   object\n",
      "dtypes: object(7)\n",
      "memory usage: 277.1+ KB\n"
     ]
    }
   ],
   "source": [
    "func_dep.info()"
   ]
  },
  {
   "cell_type": "code",
   "execution_count": null,
   "metadata": {},
   "outputs": [],
   "source": [
    "func_dep"
   ]
  }
 ],
 "metadata": {
  "kernelspec": {
   "display_name": "Python 3",
   "language": "python",
   "name": "python3"
  },
  "language_info": {
   "codemirror_mode": {
    "name": "ipython",
    "version": 3
   },
   "file_extension": ".py",
   "mimetype": "text/x-python",
   "name": "python",
   "nbconvert_exporter": "python",
   "pygments_lexer": "ipython3",
   "version": "3.12.5"
  }
 },
 "nbformat": 4,
 "nbformat_minor": 2
}
