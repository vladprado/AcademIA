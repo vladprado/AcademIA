{
  "metadata": {
    "kernelspec": {
      "name": "python",
      "display_name": "Python (Pyodide)",
      "language": "python"
    },
    "language_info": {
      "codemirror_mode": {
        "name": "python",
        "version": 3
      },
      "file_extension": ".py",
      "mimetype": "text/x-python",
      "name": "python",
      "nbconvert_exporter": "python",
      "pygments_lexer": "ipython3",
      "version": "3.8"
    }
  },
  "nbformat_minor": 5,
  "nbformat": 4,
  "cells": [
    {
      "cell_type": "markdown",
      "source": "# Identificação do participante\n\nPreencha a célula abaixo com sua matrícula no formato F + 7 algarismos, sem dígito verificador.\n\nExemplo:\n\n    chaveF = \"F1234567\"",
      "metadata": {},
      "id": "12c66376-3398-4026-a393-14779d9808bd"
    },
    {
      "cell_type": "code",
      "source": "chaveF = ",
      "metadata": {
        "tags": []
      },
      "execution_count": null,
      "outputs": [],
      "id": "b08cd02a-a955-46a3-ba14-3022c52f5db5"
    },
    {
      "cell_type": "markdown",
      "source": "# Desafio Engenharia de Dados\n\nA Dipes precisa fazer o acompanhamento do cumprimento dos indicadores de algumas Unidades Estratégicas e solicitou à UAN o desenvolvimento de um dashboard. Os colegas da equipe de Dataviz identificaram a necessidade de <b>disponibilização de algumas bases de dados</b> para desenvolvimento do dashboard, principalmente para o acompanhamento das <b>Trilhas de Capacitação</b> das Unidades Estratégicas:\n\n|PREFIXO|SIGLA|\n|---|---|\n|8008|DIREC|\n|8556|DICRE|\n|8559|DIPES|\n|8593|DIGOV|\n|9797|UCI|\n|9880|DIMEP|\n|9968|UAN|\n|9973|DIEMP|\n\nA equipe de Engenharia de Dados foi então acionada para preparação das bases de dados conforme abaixo detalhado.\n\n<b>Dados essenciais:</b>\n- acompanhamento do cumprimento do indicador de capacitação por matrícula dos funcionários das Diretorias alvo da análise\n- acompanhamento do cumprimento por UOR das Unidades Estratégicas, contendo a Vice-Presidência jurisdicionante\n\nAlém disso, a equipe de Dataviz solicitou que a equipe de engenharia reunisse algumas informações úteis para análise e levantamento de insights, tais como:\n- dados de função, escolaridade, idade, tempo de banco e estado civil de cada funcionário das dependências citadas.\n- detalhamentos sobre a área dos cursos que os funcionários concluíram nos últimos 3 anos para identificação do perfil.",
      "metadata": {},
      "id": "cb711518-fbff-4a4d-97db-9379e9a80acf"
    },
    {
      "cell_type": "markdown",
      "source": "# Orientações Gerais:\n\n1) Inclua sua matrícula na seção de Identificação, no início deste Notebook.\n\n2) **Link para envio das soluções:**\n\n- https://envio-academiabb.bb.com.br/\n\n    - **Atenção:** não serão acatadas outras formas de envio. O link acima permite acesso com senha de portais externos.\n\n3) Selecione a Trilha Engenharia ao enviar.\n\n**Nome do arquivo:** cada participante deverá baixar o presente arquivo e renomeá-lo de modo a conter:\n\n- A matrícula com F maiúsculo, sete algarismos e sem dígito (FXXXXXXX)\n\n- A trilha a qual a entrega se refere em letras minúsculas: engenharia\n\n- O nome não deve conter espaços em branco. Substitua-os por “_”.\n\n- O versionamento será gerado automaticamente na subida do arquivo, por meio do timestamp do envio.\n\n    - Exemplo1: F1234567_engenharia.ipynb\n\n    - Exemplo2: F1234567_engenharia_v3.ipynb\n\n**Formato:** .ipynb\n\n- **Atenção:** não carregar nenhum outro formato de arquivo, pois será ignorado\n\n**Prazo final:** até às 18h (horário de Brasília) do dia 20/09/2024.\n\n## Requerimentos de versões\n\nPara construção do desafio em qualquer ambiente diferente do [labblite](https://labblite.bb.com.br/), deverão ser utilizadas as versões de biblioteca abaixo especificadas:\n\n|Biblioteca|Versão|\n|---|---|\n|pandas|1.5.2 ou inferior|\n|numpy|1.23.5 ou inferior|\n|unidecode|1.3.8 ou inferior|\n|pathlib|sem indicativo de versão|\n|glob|sem indicativo de versão|\n\nEssas versões são padrão no labblite, e você pode checar após importação da biblioteca por meio da instrução:\n    \n    print(nome_biblioteca. __version__)\n\nCaso identifique a necessidade de utilização de alguma biblioteca diferente das listadas acima, entre em contato com a comissão organizadora para verificar a possibilidade de utilização no script, sob o risco de gerar erros durante a validação.\n\n## Pode:\n\n- Inserir células no notebook.\n\n    Obs: as células adicionadas após a seção do Boletim de Soluções não surtirão efeitos para fins de validação dos resultados dos exercícios propostos.\n\n- Fazer vários envios (tantos quantos forem necessários).\n\n- Nas máquinas do Banco, desenvolver na plataforma [Labblite](https://labblite.bb.com.br/)\n\n- O participante que optar por desenvolver no computador pessoal, poderá utilizar qualquer plataforma que permita a execução de scripts em Python, desde que atente para as versões das bibliotecas mencionadas na seção \"Requerimentos de versões\" acima especificada.\n    \n    Atenção: consulte as versões homologadas pelo Banco no aplicativo <b>BB Verifica Software</b> antes de instalar qualquer aplicativo nas máquinas corporativas.\n\n## Não pode:\n\n- Compartilhar arquivos/código, sob pena de desclassificação de todas as partes envolvidas.\n\n- Alterar as bases de dados disponibilizadas. Os itens contidos na pasta “bases” devem permanecer inalterados quanto a:\n    - Nome e tipo dos arquivos/pastas\n    - Conteúdo\n    - Estrutura das pastas iniciando em “bases”\n\n- Descompactar os arquivos correspondentes às bases de dados. Os arquivos disponibilizados no formato .zip deverão ser lidos nesse mesmo formato.\n\n- Gerar arquivos de qualquer formato durante a execução, com exceção daqueles gerados pelo Boletim de Soluções.\n\n- Utilizar outros arquivos além dos disponibilizados no pacote do desafio do Eixo Temático Engenharia de Dados.\n\n- Excluir ou alterar linhas do Boletim de Soluções (exceto quando explicitamente orientado pela comissão organizadora do Programa).\n\n- Apresentar erros no código no momento da validação.\n\n- O tempo total de execução do notebook não poderá exceder 2 minutos. \n\n- Importar bibliotecas no código enviado para validação. Caso necessite instalar bibliotecas durante o desenvolvimento da solução, as linhas deverão ser comentadas antes do envio, sob o risco de apresentar erros ou exceder o tempo de execução do notebook durante a validação dos exercícios.\n    \n    *Atenção:* as bibliotecas mapeadas estarão previamente instaladas no ambiente de execução da solução validadora. Caso identifique a necessidade de utilizar alguma biblioteca diferente das mencionadas na seção \"Requerimentos de versões\", entre em contato com a comissão organizadora para verificar a viabilidade de utilização.\n\n## Geras para o Nome Físico das colunas\n\n- Observe atentamente a documentação constante no enunciado de cada exercício, para evitar apontamentos nas verificações.\n\n- A ordem dos atributos deverá ser obedecida na construção dos DataFrames.\n\n- A nomenclatura de todos os campos dos DataFrames deverá seguir o padrão de nomenclatura do Banco, conforme consulta disponível no Glossário.\n\n- O nome físico não deve conter espaços, devendo as abreviações ser separadas por “_”. \n\n- Todas as palavras do Nome Lógico deverão ser abreviadas, com exceção apenas das preposições (ex.: de, com, para, até, etc.).\n\n- Ao consultar o Glossário, é importante atentar para a existência de palavras compostas, que devem ser abreviadas juntas.\n\n## Demais recomendações/Orientações\n\n- Leia atentamente o enunciado dos exercícios. Eventuais cálculos, formatações, filtros, transformações ou arredondamentos dos dados serão detalhados na descrição de cada atributo.\n\n- Verifique o indicativo de nível de dificuldade e de ordem de solução dos exercícios, pois alguns têm como requisito a conclusão de algum exercício anterior na íntegra.\n\n- Não se esqueça de salvar seu projeto! Sugerimos fazer vários versionamentos dos arquivos, para não correr riscos de perder alterações e para ter um backup, caso algo não saia como o planejado.\n\n- Não se assuste com os apontamentos de erros durante o desenvolvimento dos exercícios. Observe as orientações e dicas para solucioná-los com maior assertividade.\n\n- Ao fazer junção de tabelas, não se esqueça de conferir as quantidades de linhas e colunas das tabelas originais e tenha sempre em mente o seu objetivo antes de escolher o método de junção (interna, esquerda, direita ou total).\n\n- Ao copiar variáveis, utilize preferencialmente o método copy() para evitar corromper as variáveis que serão utilizadas para conferência dos exercícios.\n\n- Faça envios parciais, tantos quanto for necessário. Não há limite de quantidade de envios. O ideal é submeter seu notebook a cada exercício concluído, para evitar acúmulo de apontamentos na validação. \n\n- Execute o Notebook na íntegra antes de efetuar seus envios para testar o tempo de execução e a ocorrência de erros, mesmo que ainda não tenha finalizado todos os exercícios.\n\n- Utilize o Boletim de Soluções ao final do Notebook Modelo para checar a existência das variáveis de cada exercício. Não se esqueça de informar a sua chave F (chaveF) na seção de Identificação. \n\n- Após execução na íntegra do seu notebook, visualize suas variáveis finais, aquelas que serão utilizadas para correção dos exercícios, para chegar eventuais alterações indesejadas nas variáveis. Exemplo:\n    \n        exercicio1.info()\n        exercicio2.info()\n\n\n**Atenção:** encorajamos a colaboração entre os participantes, porém sempre no sentido de ajudar os demais a chegarem à resposta, nunca respondendo diretamente às perguntas ou compartilhando os arquivos/código. ",
      "metadata": {
        "tags": [],
        "jp-MarkdownHeadingCollapsed": true
      },
      "id": "6ecac00e-cfb2-4265-a22c-d16134d44987"
    },
    {
      "cell_type": "markdown",
      "source": "# Importar bibliotecas\n\nUse esse espaço para importar as bibliotecas necessárias para execução do seu notebook.\n\nLembrando que eventuais instalações de bibliotecas durante o desenvolvimento deverão ser retiradas ou comentadas antes do envio.",
      "metadata": {
        "tags": []
      },
      "id": "5b670427-6706-4282-aeb2-bf3bb7a148a9"
    },
    {
      "cell_type": "code",
      "source": "# Atenção, somente descomente as células abaixo caso não esteja desenvolvendo no labblite\n# após instalação, comente novamente as células\n\n#!pip3 install --force-reinstall --user pandas==1.5.2\n#!pip3 install --force-reinstall --user numpy==1.23.5\n#!pip3 install --force-reinstall --user unidecode==1.3.8 ",
      "metadata": {
        "trusted": true
      },
      "execution_count": 1,
      "outputs": [],
      "id": "2ff68ebe-4639-4157-a3ee-23697430471c"
    },
    {
      "cell_type": "code",
      "source": "# as celulas abaixo referem-se a instalação e importação de bibliotecas para desenvolvimento da solução\n# favor não alterar esta célula sem antes consultar a comissão organizadora\n\ntry:\n    import micropip \n    await micropip.install('pandas')\n    import pandas as pd\n    await micropip.install('unidecode')\n    from unidecode import unidecode\n    await micropip.install('numpy')\n    import numpy as np\n    import warnings\n    warnings.filterwarnings(\"ignore\")\n    from pathlib import Path\n    import glob\n    \n    mensagem = \"Importações de bibliotecas executadas com sucesso\"\nexcept:\n    try:\n        import pandas as pd\n        from unidecode import unidecode\n        import numpy as np\n        import warnings\n        warnings.filterwarnings(\"ignore\")\n        from pathlib import Path\n        import glob\n\n        mensagem = \"Importações de bibliotecas executadas com sucesso\"\n    except Exception as e:\n        mensagem = f\"{e.args[0]} \\nImportações de bibliotecas não executada\"\nfinally:\n    print(mensagem)",
      "metadata": {
        "trusted": true
      },
      "execution_count": 1,
      "outputs": [
        {
          "name": "stdout",
          "text": "Importações de bibliotecas executadas com sucesso\n",
          "output_type": "stream"
        }
      ],
      "id": "0451d52b-b87e-4b7a-8e1f-a2e02d52ead3"
    },
    {
      "cell_type": "code",
      "source": "",
      "metadata": {},
      "execution_count": null,
      "outputs": [],
      "id": "b80386bd-184a-4ece-89a0-829b1dfba6b9"
    },
    {
      "cell_type": "markdown",
      "source": "# Exercício 1 - Tabela de Vínculo entre as Unidades Organizacionais\n\n<b>Nível de dificuldade:</b> 1\n\n<b>Ordem:</b> qualquer\n\nCriar um DataFrame Pandas chamado <b>exercicio1</b> com a tabela que contém o vínculo entre as UORs do Banco.\n\nNa tabela abaixo especificamos as <b>informações descritivas</b> (nome, formato dos dados, etc.) dos atributos (colunas) que deverão constar no dataframe resultante:\n\n||Nome Lógico|Nome Físico|Formato|Descrição|Aceita Nulos|Tabela Origem|Atributo Origem|\n|---|---|---|---|---|---|---|---|\n|1|Código da Unidade Organizacional Vinculada|CD_UOR_VCLD|Int64|Código identificador de Unidade Organizacional (UOR) vinculada ou JURISDICIONADA.|N|VCL_UOR|CD_UOR_VCLD\n|2|Código do Tipo de Vínculo|CD_TIP_VCL|Int64|Código identificador do Tipo de Vínculo ou JURISDIÇÃO utilizado para a vinculação entre Unidades Organizacionais.|N|VCL_UOR|CD_TIP_VCL\n|3|Código da Unidade Organizacional Vinculadora|CD_UOR_VCLR|Int64|Código identificador da Unidade Organizacional vinculadora ou JURISDICIONANTE, conforme determinado Tipo de Vínculo ou jurisdição.|N|VCL_UOR|CD_UOR_VCLR\n|4|Número do Intervalo de Nível Hierárquico|NR_ITVL_NVL_HRQO|Int64|Representa o intervalo de nível hierárquico entre a UOR Vinculada e a UOR Vinculadora. A partir deste atributo, é possível saber quantos níveis acima ou abaixo encontra-se uma UOR Vinculadora em relação à UOR Vinculada.|S|VCL_UOR|NR_ITVL_NVL_HRQO\n\nAo final do exerício, o resultado da consulta do cabeçado (<b>.head()</b>) do dataframe exercicio1 deverá seguir a estrutura abaixo exemplificada:\n\n- código a ser executado:\n\n\n    <i>exercicio1.head()</i>\n\n- exemplo de resultado do código acima com valores fictícios:\n\n||CD_UOR_VCLD|CD_TIP_VCL|CD_UOR_VCL|NR_ITVL_NVL_HRQO|\n|---|---|---|---|---|\n|0|9999|99|1111|&lt;NA&gt;|\n|1|9999|101|2222|&lt;NA&gt;|\n|2|9999|1100|3333|&lt;NA&gt;|\n|3|9999|1200|4444|&lt;NA&gt;|\n|34|9999|1220|5555|&lt;NA&gt;|\n\n   \n<b>Regra:</b> a ordem das colunas deverá obedecer à ordem da tabela de informações descritivas constante do enunciado.\n\n<b>Dica 1:</b> verifique o <b>Vocabulário de Termos</b> anexo para saber mais sobre o termo <b>&lt;NA&gt;</b> e o tipo <b>Int64</b>.\n\n<b>Dica 2:</b> os registros nulos somente deverão ser tratados quando expressamente orientado no enunciado do exercício.",
      "metadata": {
        "tags": []
      },
      "id": "c7e43ed0-b939-4458-ab6e-57f6b75abebf"
    },
    {
      "cell_type": "code",
      "source": "",
      "metadata": {},
      "execution_count": null,
      "outputs": [],
      "id": "4cc3e85a-2819-4351-8db2-7619f0c23f10"
    },
    {
      "cell_type": "raw",
      "source": "",
      "metadata": {},
      "id": "ee968682-be2e-4747-8dcf-6f00bf4f6007"
    },
    {
      "cell_type": "code",
      "source": "",
      "metadata": {},
      "execution_count": null,
      "outputs": [],
      "id": "7d48260c-25d0-4c99-9772-faa8f8950703"
    },
    {
      "cell_type": "code",
      "source": "",
      "metadata": {},
      "execution_count": null,
      "outputs": [],
      "id": "35c11c2f-6eba-463d-9020-5f7bf7676784"
    },
    {
      "cell_type": "code",
      "source": "",
      "metadata": {},
      "execution_count": null,
      "outputs": [],
      "id": "22f31329-1147-49a4-8fd7-a40a9a6ca7c7"
    },
    {
      "cell_type": "markdown",
      "source": "# Exercício 2 - Tabela de Unidades Organizacionais (UOR) do BB\n\n<b>Nível de dificuldade (1 a 5):</b> 2\n\n<b>Ordem:</b> qualquer\n\nCriar um DataFrame Pandas chamado <b>exercicio2</b> com a tabela UORs do BB, conforme detalhado abaixo:\n\n||Nome Lógico|Nome Físico|Formato|Descrição|Aceita Nulos|Tabela Origem|Atributo Origem|\n|---|---|---|---|---|---|---|---|\n|1|Código da Unidade Organizacional|CD_UOR|Int64|Código identificador de Unidade Organizacional (UOR) do conglomerado Banco do Brasil (no Brasil e Exterior) ou UOR externas que o BB tenha algum tipo de relacionamento ou interesse em identificá-las.|N|UOR|CD_UOR\n|2|Nome da Unidade Organizacional Reduzido|NM_UOR_RDZ|object|Nome reduzido da Unidade Organizacional.|N|UOR|NM_UOR_RDZ\n|3|Sigla da Unidade Organizacional|SG_UOR|object|Reunião das letras iniciais dos vocábulos fundamentais de uma denominação ou título, sem articulação prosódica, constituindo meras abreviaturas. Ex.: \"DITEC\", \"GBASE\", \"DIREO\", \"PRESI\", etc.|S|UOR|SG_UOR\n|4|Data Início de Validade|DT_INC_VLD|datetime64[ns]|Data em que o registro passa a ter validade (geralmente coincide com a data de inclusão).  Formato \"AAAA-MM-DD\".|N|UOR|DT_INC_VLD\n|5|Código do Item da Arquitetura da Unidade Organizacional|CD_ITEM_AQTT_UOR|Int64|Código identificador dos Itens de Arquitetura que existem em uma Instituição Organizacional para orientação da estrutura das Unidades Organizacionais (oriundo do sistema IOR).|N|UOR|CD_ITEM_AQTT_UOR\n|6|Código do Tipo da Unidade Organizacional|CD_TIP_UOR|Int64|Código identificador dos Tipos nos quais as Unidades Organizacionais podem ser classificadas. Ex.: \"001 - Governo\" \"003 - Canal de Atendimento\",  \"004 - Dependências BB\",  \"005 - Exterior\" etc. |N|UOR|CD_TIP_UOR\n|7|Código da Dependência da Unidade Organizacional|CD_DEPE_UOR|Int64|Código identificador de Dependências de Instituições Organizacionais. No BB atualmente é utilizado os domínios entre 1 e 9999.Ex.: \"0001 - Ag. Rio de Janeiro\", \"4886 - Ag. Estilo Alvorada-Brasília\"|N|UOR|CD_DEPE_UOR\n|8|Número da Ordem da Dependência Subordinada|NR_ORD_DEPE_SBDD|Int64|Número identificador de subordinação de uma dependência de IOR's que possuam em sua organização subdependências ou subordinadas. 0 indica a UOR principal da dependência|N|UOR|NR_ORD_DEPE_SBDD\n\n<b>Regra 1:</b> considere apenas as UORs da Instituição Organizacional \"Banco do Brasil\".\n\n<b>Regra 2:</b> considere apenas as UORs \"em funcionamento\".\n\n<b>Dica: </b>atenção para o formato da data.\n",
      "metadata": {
        "tags": []
      },
      "id": "250c21fe-1ebc-45e0-bb8d-7a28ec1ffa2b"
    },
    {
      "cell_type": "code",
      "source": "",
      "metadata": {},
      "execution_count": null,
      "outputs": [],
      "id": "440cd86f-4aee-43a7-8a42-652ec36b019f"
    },
    {
      "cell_type": "code",
      "source": "",
      "metadata": {},
      "execution_count": null,
      "outputs": [],
      "id": "4516e089-dbca-4aa8-97d7-80e1f4503f8c"
    },
    {
      "cell_type": "code",
      "source": "",
      "metadata": {},
      "execution_count": null,
      "outputs": [],
      "id": "17dd6a85-c9ac-4e8f-9f77-1f40f5174495"
    },
    {
      "cell_type": "markdown",
      "source": "# Exercício 3 - Tabela de cursos realizados por funcionário\n\n<b>Nível de dificuldade (1 a 5):</b> 1\n\n<b>Ordem:</b> qualquer\n\nCriar um DataFrame Pandas chamado <b>exercicio3</b> com a tabela dos cursos realizados pelos funcionários, conforme detalhado abaixo:\n\n||Nome Lógico|Nome Físico|Formato|Descrição|Aceita Nulos|Tabela Origem|Atributo Origem|\n|---|---|---|---|---|---|---|---|\n|1|Codigo de matricula do funcionario|?|Int64|Código da matrícula do funcionário. |N|?|?|\n|2|Código do Curso|?|Int64|Identificador do curso. Campo numérico de 7 posições. |N|?|?|\n|3|Data final do curso|?|datetime64[ns]|Data que identifica a finalizaçao do curso. Formato \"AAAA-MM-DD\".|N|?|?|\n|4|Codigo de origem do curso|?|Int64|O conteudo deste campo indentificara a origem do curso. Exemplo: 01-ARH, 02-GTD, 03-PFP, 04-ALURA, 05-UNIBB, 17-SYNAPSE|N|?|?|\n\n<b>Dica 1:</b> para construir o nome físico das tabelas, consulte as abreviações no Glossário de Termos.\n\n<b>Dica 2:</b> atenção para o formato da matrícula.",
      "metadata": {
        "tags": []
      },
      "id": "f11cfd26-6749-4ddd-a479-b0656ebcd517"
    },
    {
      "cell_type": "code",
      "source": "",
      "metadata": {},
      "execution_count": null,
      "outputs": [],
      "id": "aee7e25d-8783-47e8-bd0a-a181f547fd0d"
    },
    {
      "cell_type": "code",
      "source": "",
      "metadata": {},
      "execution_count": null,
      "outputs": [],
      "id": "4aab7c59-b722-4911-9665-58e008fd1a88"
    },
    {
      "cell_type": "code",
      "source": "",
      "metadata": {},
      "execution_count": null,
      "outputs": [],
      "id": "0b63fb37-5c1a-4523-88cf-276792efdcff"
    },
    {
      "cell_type": "code",
      "source": "",
      "metadata": {},
      "execution_count": null,
      "outputs": [],
      "id": "edcd62cd-148e-4a78-bad8-8552ae9d6d6c"
    },
    {
      "cell_type": "code",
      "source": "",
      "metadata": {},
      "execution_count": null,
      "outputs": [],
      "id": "fa1dafc4-d10d-4f09-a56c-4cf9b57a3798"
    },
    {
      "cell_type": "markdown",
      "source": "# Exercício 4 - Tabela de cadastro dos funcionários\n\n<b>Nível de dificuldade (1 a 5):</b> 2\n\n<b>Ordem:</b> qualquer\n\nCriar um DataFrame Pandas chamado <b>exercicio4</b> com a tabela de cadastro dos funcionários, conforme detalhado abaixo:\n\n||Nome Lógico|Nome Físico|Formato|Descrição|Aceita Nulos|Tabela Origem|Atributo Origem|\n|---|---|---|---|---|---|---|---|\n|1|Codigo de matricula do funcionario|?|Int64|Código da matrícula (F) do funcionário. |N|CAD_FUN|?\n|2|Nome do funcionário|?|object|Nome do funcionário cadastrado no ARH. Formato: caixa alta, sem acentuação.|N|CAD_FUN|?\n|3|Sigla do Tipo do Estado Civil|?|object|Sigla ARH que define o estado civil do funcionário. |N|CAD_FUN|?\n|4|Código do Tipo de Nível de Instrução|?|Int64|Código ARH do nível de instrução. |N|CAD_FUN|?\n|5|Data de nascimento|?|datetime64[ns]|Data de nascimento. Formato \"AAAA-MM-DD\".|N|CAD_FUN|?\n|6|Código do Tipo de Gênero|?|Int64|Código ARH do sexo/gênero. 1 -Masculino, 2 - Feminino.|N|CAD_FUN|?\n|7|Código do Prefixo da Dependência de Localização|?|Int64|Código do prefixo da dependência de localização (UOR). |N|CAD_FUN|?\n|8|Código de Função ou Cargo Efetiva|?|Int64|Código ARH da função ou cargo efetivo. Exemplo: 610 - ESCRITURARIO, 12381 - ASSESSOR II UE etc. |N|CAD_FUN|?\n|9|Data de Posse na Localização|?|datetime64[ns]|Data de posse na dependência de localização (UOR).  Formato \"AAAA-MM-DD\".|N|CAD_FUN|?\n|10|Data de posse no BB|?|datetime64[ns]|Data de posse no Banco do Brasil. Formato \"AAAA-MM-DD\".|N|CAD_FUN|?\n\n<b>Dica:</b> atenção para a formatação do nome.",
      "metadata": {
        "tags": []
      },
      "id": "bb4c5b31-3082-4bb2-9bb8-16fe19787204"
    },
    {
      "cell_type": "code",
      "source": "",
      "metadata": {},
      "execution_count": null,
      "outputs": [],
      "id": "79d4aaf5-889e-4241-9e37-df3492e089b2"
    },
    {
      "cell_type": "code",
      "source": "",
      "metadata": {},
      "execution_count": null,
      "outputs": [],
      "id": "eb1f7a24-7fca-4613-bedf-a2ab2e973efd"
    },
    {
      "cell_type": "code",
      "source": "",
      "metadata": {},
      "execution_count": null,
      "outputs": [],
      "id": "d11c9ed1-4d1c-4a3e-ba7e-1781086851e1"
    },
    {
      "cell_type": "markdown",
      "source": "# Exercício 5 - Incremento da tabela de cadastro de funcionários\n\n<b>Nível de dificuldade (1 a 5):</b> 3\n\n<b>Requisitos:</b> exercício 4\n\nCriar um DataFrame Pandas chamado <b>exercicio5</b> contendo os campos adicionais do cadastro do funcionários, conforme abaixo detalhado:\n\n||Nome Lógico|Nome Físico|Formato|Descrição|Aceita Nulos|Tabela Origem|Atributo Origem|\n|---|---|---|---|---|---|---|---|\n|1|Codigo de matricula do funcionario|?|Int64|Código da matrícula (F) do funcionário. |N|?|?|\n|2|Nome do funcionário|?|object|Nome do funcionário cadastrado no ARH. Formato: caixa alta, sem acentuação.|N|?|?|\n|3|Código de Função ou Cargo Efetiva|?|Int64|Código ARH da função ou cargo efetivo. Exemplo: 610, 12381, etc. |N|?|?|\n|4|Nome da Função ou Cargo Efetivo|?|object|Nome da função ou cargo efetivo. Exemplo: 610 - ESCRITURARIO, 12381 - ASSESSOR II UE etc. |S|?|?|\n|5|Código do Prefixo da Dependência de Localização|?|Int64|Código do prefixo da dependência de localização (UOR). |N|?|?|\n|6|Data de Posse na Localização|?|datetime64[ns]|Data de posse na dependência de localização (UOR).  Formato \"AAAA-MM-DD\".|N|?|?|\n|7|Data de posse no BB|?|datetime64[ns]|Data de posse no Banco do Brasil. Formato \"AAAA-MM-DD\".|N|?|?|\n|8|Data de nascimento|?|datetime64[ns]|Data de nascimento. Formato \"AAAA-MM-DD\".|N|?|?|\n|9|Código do Tipo de Gênero|?|Int64|Código ARH do sexo/gênero. 1 -Masculino, 2 - Feminino.|N|?|?|\n|10|Sigla do Tipo do Estado Civil|?|object|Sigla ARH que define o estado civil do funcionário. |N|?|?|\n|11|Nome do Tipo de Estado Civil|?|object|Descrição do estado civil do funcionário. |N|?|?|\n|12|Código do Tipo de Nível de Instrução|?|Int64|Código ARH do nível de instrução. |N|?|?|\n|13|Nome do Tipo de Nível de Instrução|?|object|Descrição do nível de instrução. |N|?|?|\n\n<b>Regra 1:</b> para a descrição do estado civil, considere os valores abaixo:\n\n|Cod.|Descrição|\n|---|---|\n|1|SOLTEIRO(A)|\n|2|CASADO(A)|\n|3|CASADO(A) COM FUNCIONARIA(O)|\n|4|VIUVO(A)|\n|5|SEPARADO(A) JUDICIAL OU EXTRAJ|\n|8|DIVORCIADO(A)|\n|M|SEPARADO(A) CONSENSUALMENTE|\n\n<b>Regra 2:</b> para a descrição do nível de instrução, considere os valores abaixo:\n\n|Cod.|Descrição|\n|---|---|\n|1|ENSINO FUNDAMENTAL|\n|2|ENSINO MEDIO|\n|3|SUPERIOR EM ANDAMENTO|\n|4|SUPERIOR SEQUENCIAL|\n|5|SUPERIOR GRADUACAO|\n|6|POS-GRADUACAO-APERFEIC|\n|7|POS-GRADUCAO-ESPEC|\n|8|MESTRADO|\n|9|DOUTORADO|",
      "metadata": {
        "tags": []
      },
      "id": "29404859-efcc-4b9a-8fd5-adeb8d837e49"
    },
    {
      "cell_type": "code",
      "source": "",
      "metadata": {},
      "execution_count": null,
      "outputs": [],
      "id": "9af727e8-0958-4281-a27b-474013a58940"
    },
    {
      "cell_type": "code",
      "source": "",
      "metadata": {},
      "execution_count": null,
      "outputs": [],
      "id": "6b2d5cf9-37cd-455a-a329-8f7d06b6bc16"
    },
    {
      "cell_type": "code",
      "source": "",
      "metadata": {},
      "execution_count": null,
      "outputs": [],
      "id": "43f9eda3-30e7-4433-9f44-e67f55e2e583"
    },
    {
      "cell_type": "code",
      "source": "",
      "metadata": {},
      "execution_count": null,
      "outputs": [],
      "id": "399f13e1-a79e-4879-92f9-11c280bf13e1"
    },
    {
      "cell_type": "markdown",
      "source": "# Exercício 6 - Tabela Catálogo de Cursos\n\n<b>Nível de dificuldade (1 a 5):</b> 3\n\n<b>Ordem:</b> qualquer\n\nCriar um DataFrame Pandas chamado <b>exercicio6</b> contendo o catálodo de cursos e formações do Banco, conforme abaixo:\n\n||Nome Lógico|Nome Físico|Formato|Descrição|Aceita Nulos|Tabela Origem|Atributo Origem|\n|---|---|---|---|---|---|---|---|\n|1|Código do Curso|?|Int64|Identificador do curso. Campo numérico de 7 posições. |N|?|?|\n|2|Nome do Curso|?|object|Nome genérico do curso. |N|?|?|\n|3|Texto do Curso|?|object|Breve descrição do assunto abordado pelo curso. |N|?|?|\n|4|Texto do Objetivo do Curso|?|object|Texto que descreve o objetivo do curso. |N|?|?|\n|5|Texto do Desempenho Esperado|?|object|Texto que descreve o desempenho esperado no curso para o treinando. |S|?|?|\n|6|Texto do Objetivo Estratégico|?|object|Texto que descreve quais são os objetivos estratégicos do curso. |S|?|?|\n|7|Código da Área de Conhecimento|?|Int64|Código da área de conhecimento do curso. Campo numérico de 3. Exemplo: Área: 170 (Será este atributo) Subárea: 170.050 conhecimento: 170.050.0025.|S|?|?|\n|8|Nome da Área de Conhecimento|?|object|Descrição da área de conhecimento do curso.|S|?|?|\n|9|Código da Sub Área de Conhecimento|?|Int64|Código da sub-área do conhecimento. Exemplo: Área: 170 Subárea: 170.050 (Será o 050) conhecimento: 170.050.0025.|S|?|?|\n|10|Nome da Sub Área de Conhecimento|?|object|Descrição da sub-área do conhecimento.|S|?|?|\n|11|Código do Conhecimento do Curso|?|Int64|Código do conhecimento. Identifica o conhecimento do curso.|N|?|?|\n|12|Nome do Conhecimento do Curso|?|object|Descrição do conhecimento do curso.|S|?|?|\n|13|Quantidade de Carga Horária do Curso|?|Int64|Carga horária total do curso em horas|S|?|?|\n|14|Código do Tipo da Formação Superior|?|Int64|Código identificador da formação superior. Ex:   35- Pós-Graduação;  36- Mestrado;  37- Doutorado. |S|?|?|\n|15|Texto do Tipo da Formação Superior|?|object|Descrição da formação superior. |S|?|?|\n|16|Código da Modalidade do Curso|?|Int64|Indica o código da modalidade do curso. Sendo: 01 - Presencial; 02 - Auto-instrucional; 03 - Em serviço; 09 - A regularizar |N|?|?|\n|17|Código do Nível do Curso|?|Int64|Identificador do tipo do nível do curso (enfoque de aprendizagem). Sendo: 01 - Fundamental; 02 - Instrumental; 03 - Estratégico; 04 - Acadêmico; 09 - A classificar. |N|?|?|\n|18|Código da Natureza do Curso|?|Int64|Identificador da natureza do curso. 01 - Atualização; 02 - Formação; 03 - Aperfeiçoamento; 04 - Qualificação. |N|?|?|\n|19|Código do Tipo de Origem do Curso|?|Int64|Código dos tipos de origem do curso. 01 - Desenvolvido pelo banco; 02 - Contratado no mercado; 03 - Em parceria |N|?|?|\n|20|Código do Tipo de Público|?|Int64|Código dos tipos de público (participação) que o curso pode ter. Ex.: 1- Interno;  2- externo; 3- misto. |N|?|?|\n|21|Indicador de Vigência do Curso|?|object|Indica a utilização do curso. Possíveis valores: \"S\" - (SIM) Em Linha; \"N\" - (NÃO) Fora de linha |N|?|?|\n|22|Indicador de Trilha de Estratégica|?|object|Indica se o curso faz parte da Trilha de Estratégica de Capacitação. Possíveis valores: \"S\" - (SIM); \"N\" - (NÃO)|N|?|?|\n|23|Nome da Etapa|?|object|Descrição do tema da etapa de capacitação para os cursos que fazem parte da Trilha Estratégica. Possíveis valores: ASG, NEGOCIOS, LIDERANCA, TRANSFORMACAO DIGITAL. Formato: caixa alta, sem acentuação.|S|?|?|\n\n<b>Regra 1:</b> todas as colunas de texto devem ser formatadas conforme o padrão caixa alta e sem acento.\n\n<b>Regra 2:</b> os registros das colunas de texto que contiverem nulos deverão permanecer nulos ao final das transformações.\n\n<b>Regra 3:</b> excluir registros que atendam a alguma das regras abaixo:\n\n- quando o Texto do Objetivo do Curso for igual a 'TESTE EDUCA' ou 'TESTE GTD' ou 'TESTE' ou 'TESTANDO' ou 'DADFAFD' ou 'SGASDG' ou 'NXYZ' ou 'R';\n- quando o Texto do Objetivo do Curso for igual a 'A' e o Código da Área de Conhecimento for nulo;\n- quando o Nome do Curso contiver 'EXCEL TESTE' ou 'TESTE DISCIPLINA' ou 'EXCLUIR' ou 'ALURA';\n- quando o Nome do curso for contiver 'TESTE' e o Código da Área de Conhecimento for nulo, com exceção do curso 7740;\n- quando o Nome do curso for contiver 'TESTE' e o Texto do Objetivo do Curso for igual a '.';\n- quando o Texto do Curso contiver 'TESTE MATERIAL' ou 'TESTE GERAL'.\n- quando o Nome do curso ou o Texto do Curso contiverem 'EXCLUIDO'.",
      "metadata": {
        "tags": []
      },
      "id": "cdb5bbd0-df5e-48af-be01-5afb158d478a"
    },
    {
      "cell_type": "code",
      "source": "",
      "metadata": {},
      "execution_count": null,
      "outputs": [],
      "id": "2b30d9b9-cdce-4f01-825c-c29838a9c319"
    },
    {
      "cell_type": "code",
      "source": "",
      "metadata": {},
      "execution_count": null,
      "outputs": [],
      "id": "08b192a7-cc92-4e0e-84e6-c9b9d8854861"
    },
    {
      "cell_type": "code",
      "source": "",
      "metadata": {},
      "execution_count": null,
      "outputs": [],
      "id": "ef26a7a3-f31f-49ae-ab13-bf5cfce61306"
    },
    {
      "cell_type": "code",
      "source": "",
      "metadata": {},
      "execution_count": null,
      "outputs": [],
      "id": "4f712a5e-9d1e-4969-9914-75f5e0ec251a"
    },
    {
      "cell_type": "markdown",
      "source": "# Exercício 7 - Nova tabela de UOR\n\n<b>Nível de dificuldade (1 a 5):</b> 4\n\n<b>Requisitos:</b> exercícios 1 e 2\n\nCriar um DataFrame Pandas chamado <b>exercicio7</b> contendo as informações das UOR e Vice-Presidência jurisdicionante, conforme abaixo:\n\n||Nome Lógico|Nome Físico|Formato|Descrição|Aceita Nulos|Tabela Origem|Atributo Origem|\n|---|---|---|---|---|---|---|---|\n|1|Código da Dependência da Unidade Organizacional|?|Int64|Código identificador de Dependências de Instituições Organizacionais. No BB atualmente é utilizado os domínios entre 1 e 9999.|N|?|?\n|2|Código da Unidade Organizacional|?|Int64|Código identificador de Unidade Organizacional (UOR) do conglomerado Banco do Brasil (no Brasil e Exterior) ou UOR externas que o BB tenha algum tipo de relacionamento ou interesse em identificá-las.|N|?|?\n|3|Sigla da Unidade Organizacional|?|object|Reunião das letras iniciais dos vocábulos fundamentais de uma denominação ou título, sem articulação prosódica, constituindo meras abreviaturas. Ex.: \"DITEC\", \"GBASE\", \"DIREO\", \"PRESI\", etc.|S|?|?\n|4|Nome da Unidade Organizacional Reduzido|?|object|Nome reduzido da Unidade Organizacional.|N|?|?\n|5|Código da Dependência da Vice-Presidência|?|Int64|Código identificador da Dependência da Vice-Presidência jurisdicionante da UOR.|S|?|?\n|6|Sigla da Vice-Presidência|?|object|Sigla da Vice-Presidência jurisdicionante da UOR.|S|?|?\n\n<b>Regra:</b> considere apenas as UORs cujo Item de Arquitetura corresponda a \"DIRETORIA\" ou \"UNIDADE\".\n\n<b>Dica:</b> atenção no momento de fazer a junção das tabelas de UOR e Vínculo de UOR. Lembrando que uma mesma dependência possui várias UORs além da principal. Consulte a documentação das tabelas.",
      "metadata": {
        "tags": []
      },
      "id": "74ae8405-17db-4826-9a83-48553435f350"
    },
    {
      "cell_type": "code",
      "source": "",
      "metadata": {},
      "execution_count": null,
      "outputs": [],
      "id": "13ce2e79-a47f-44b0-9c51-07c4314eff31"
    },
    {
      "cell_type": "code",
      "source": "",
      "metadata": {},
      "execution_count": null,
      "outputs": [],
      "id": "d9e51f43-a48b-4b22-ba9d-06e9994210ce"
    },
    {
      "cell_type": "code",
      "source": "",
      "metadata": {},
      "execution_count": null,
      "outputs": [],
      "id": "36b54f61-2da0-400b-82a6-034657897251"
    },
    {
      "cell_type": "markdown",
      "source": "# Exercício 8 - Verificação do cumprimento do indicador - Parte 1\n\n<b>Nível de dificuldade (1 a 5):</b> 4\n\n<b>Requisitos:</b> exercícios 4 e 6\n\nCriar um DataFrame Pandas chamado <b>exercicio8</b> contendo as informações consolidadas de todos os funcionários dos prefixos alvo da análise, conforme abaixo:\n\n||Nome Lógico|Nome Físico|Formato|Descrição|Aceita Nulos|Tabela Origem|Atributo Origem|\n|---|---|---|---|---|---|---|---|\n|1|Código da Matrícula do Funcionário|?|Int64|Código da matrícula (F) do funcionário. |N|?|?|\n|2|Código da Unidade Organizacional de Localização|?|Int64|Código da UOR de localização do funcionário.|N|?|?|\n|3|Quantidade Total de Cursos|?|Int64|Quantidade total de cursos realizados pelo funcionário no ano atual|N|?|?|\n|4|Quantidade Total de Cursos da Trilha|?|Int64|Quantidade total de cursos da Trilha Estratégica realizados pelo funcionário até o momento|N|?|?|\n|5|Quantidade Total de Horas no Primeiro Semestre|?|Int64|Quantidade total de horas de treinamento realizadas pelo funcionário no primeiro semestre do ano atual|N|?|?|\n|6|Quantidade Total de Horas da Trilha no Primeiro Semestre|?|Int64|Quantidade total de horas de treinamento da Trilha Estratégica realizadas pelo funcionário no primeiro semestre do ano atual|N|?|?|\n|7|Quantidade Total de Horas no Segundo Semestre|?|Int64|Quantidade total de horas de treinamento realizadas pelo funcionário no segundo semestre do ano atual|N|?|?|\n|8|Quantidade Total de Horas da Trilha no Segundo Semestre|?|Int64|Quantidade total de horas de treinamento da Trilha Estratégica realizadas pelo funcionário no segundo semestre do ano atual|N|?|?|\n|9|Indicador de Cumprimento Total da Trilha no Primeiro Semestre|?|object|Indicador que sinaliza se o funcionário realizou todos os cursos da Trilha Estratégica até o primeiro semestre. Possíveis valores: \"S\" ou \"N\".|N|?|?|\n|10|Indicador de Cumprimento Total da Trilha no Segundo Semestre|?|object|Indicador que sinaliza se o funcionário realizou todos os cursos da Trilha Estratégica até o semestre. Possíveis valores: \"S\" ou \"N\".|N|?|?|\n\n<b>Regra1:</b> ignorar os cursos para os quais não houver informação sobre a Carga Horária.\n\n<b>Regra2:</b> atentar para a ocorrência de registros duplicados.\n\n<b>Dica:</b> verifique os prefixos alvo da análise na descrição do desafio.",
      "metadata": {},
      "id": "fd2aa4df-e4f6-414d-8a58-8e9c70431e27"
    },
    {
      "cell_type": "code",
      "source": "",
      "metadata": {},
      "execution_count": null,
      "outputs": [],
      "id": "87ec1a4d-a839-4ad7-96b4-2b74da023076"
    },
    {
      "cell_type": "code",
      "source": "",
      "metadata": {},
      "execution_count": null,
      "outputs": [],
      "id": "57328271-0084-41ec-be62-31c5829c5de3"
    },
    {
      "cell_type": "code",
      "source": "",
      "metadata": {},
      "execution_count": null,
      "outputs": [],
      "id": "ef476112-f7fb-41ba-8ccf-3c48b302e70a"
    },
    {
      "cell_type": "markdown",
      "source": "# Exercício 9 - Verificação do cumprimento do indicador - Parte 2\n\n<b>Nível de dificuldade (1 a 5):</b> 5\n\n<b>Requisitos:</b> exercício 8\n\nCriar um DataFrame Pandas chamado <b>exercicio9</b> contendo todas as informações do exercício 8 mais os atributos relacionados abaixo:\n\n||Nome Lógico|Nome Físico|Formato|Descrição|Aceita Nulos|Tabela Origem|Atributo Origem|\n|---|---|---|---|---|---|---|---|\n|10|Indicador de Funcionário Avaliável no Primeiro Semestre|?|object|Indicador que sinaliza se o funcionário é avaliável no primeiro semestre.|N|?|?|\n|11|Indicador de Funcionário Avaliável no Segundo Semestre|?|object|Indicador que sinaliza se o funcionário é avaliável no segundo semestre.|N|?|?|\n\n<b>Regra 1:</b> os funcionários que atenderem às situações abaixo elencadas serão considerados \"Não avaliáveis\"\n- Permanecerem por mais de 90 dias em situação diferente de 100-Força de Trabalho Real no semestre.\n- Atuarem como colaboradores (Disponibilidade ou Cessão) ou adidos por mais de 90 dias no semestre.\n- Cujo total de dias em situação diferente de 100-Força de Trabalho Real somado ao total de dias em colaboração (Disponibilidade ou Cessão) for maior que 90 dias.\n- Estiverem em situação de colaboração ou adição no encerramento da apuração semestral (fechamento do semestre: 30/06/2024 ou 31/12/2024)\n- Funcionários empossados no BB há menos de 90 dias no encerramento da apuração semestral.\n\n<b>Regra 2:</b> para fins de apuração do indicador de Capacitação Estratégica, considere:\n- como colaboração os funcis que apresentarem situação \"DISP\" ou \"ADIDOS\" ou \"CEDIDOS\", exceto folga.\n- como situação diferente de 100-Força de Trabalho Real apenas as situações que contemplarem:\n  - Licença Saúde (LS)\n  - Licença Interesse\n  - Licença Maternidade\n  - Licença Paternidade\n  - Nascimento de Filho - Pai\n  - Licença para assistência a pessoa enferna da família (LIC.P/AS.PES.ENF.FAM-70% PR)",
      "metadata": {},
      "id": "372d2207-0b07-49d7-be38-6b02fd0cbf01"
    },
    {
      "cell_type": "code",
      "source": "",
      "metadata": {},
      "execution_count": null,
      "outputs": [],
      "id": "7b4418c5-c72a-4fd1-939c-49fb640a8aba"
    },
    {
      "cell_type": "code",
      "source": "",
      "metadata": {},
      "execution_count": null,
      "outputs": [],
      "id": "9cecbf30-a1cf-4d39-a623-78aaa4e2e218"
    },
    {
      "cell_type": "code",
      "source": "",
      "metadata": {},
      "execution_count": null,
      "outputs": [],
      "id": "04a91a1e-591c-4f82-b8e3-4ba07fd06ac7"
    },
    {
      "cell_type": "markdown",
      "source": "# Exercício 10 - Cumprimento do indicador por prefixo\n\n<b>Nível de dificuldade (1 a 5):</b> 5\n\n<b>Requisitos:</b> exercício 9\n\n<b><<< Parte 1 >>></b>\n\nCriar um DataFrame Pandas chamado <b>exercicio10</b> contendo a consolidação das informações das UORs:\n\n||Nome Lógico|Nome Físico|Formato|Descrição|Aceita Nulos|Tabela Origem|Atributo Origem|\n|---|---|---|---|---|---|---|---|\n|1|Código da Dependência da Unidade Organizacional|?|Int64|Código identificador de Dependências de Instituições Organizacionais. No BB atualmente é utilizado os domínios entre 1 e 9999.|N|?|?|\n|2|Código da Unidade Organizacional|?|Int64|Código identificador de Unidade Organizacional (UOR) do conglomerado Banco do Brasil (no Brasil e Exterior) ou UOR externas que o BB tenha algum tipo de relacionamento ou interesse em identificá-las.|N|?|?|\n|3|Sigla da Unidade Organizacional|?|object|Reunião das letras iniciais dos vocábulos fundamentais de uma denominação ou título, sem articulação prosódica, constituindo meras abreviaturas. Ex.: \"DITEC\", \"GBASE\", \"DIREO\", \"PRESI\", etc.|N|?|?|\n|4|Nome da Unidade Organizacional Reduzido|?|object|Nome reduzido da Unidade Organizacional.|N|?|?|\n|5|Código da Dependência da Vice-Presidência|?|Int64|Código identificador da Dependência da Vice-Presidência jurisdicionante da UOR.|N|?|?|\n|6|Sigla da Vice-Presidência|?|object|Sigla da Vice-Presidência jurisdicionante da UOR.|N|?|?\n|7|Quantidade Total de Funcionários da Unidade Organizacional|?|Int64|Quantidade total de funcionários localizados na UOR|N|?|?|\n|8|Indicador de Unidade Organizacional Alvo da Análise|?|object|Indica se a UOR é alvo da análise. Possíveis valores: \"S\" ou \"N\". |N|?|?|\n|9|Índice de Atingimento do Indicador no Primeiro Semestre|?|float64|Indicativo do percentual de atingimento do indicador no primeiro semestre, caso a UOR seja alvo da análise. Varia de 0 a 1, com duas casas decimais.|S|?|?|\n|10|Índice de Atingimento do Indicador no Segundo Semestre|?|float64|Indicativo do percentual de atingimento do indicador no segundo semestre, caso a UOR seja alvo da análise. Varia de 0 a 1, com duas casas decimais.|S|?|?|\n\n<b>Regras gerais:</b>\n    \n- deverão ser listadas apenas as UORs que possuem Vice-Presidência vinculada.\n\n- verifique os prefixos alvo da análise na descrição do desafio.\n\nConsidere as regras abaixo para apuração do cumprimento do indicador para cada um dos prefixos alvo da análise:\n\n<b>Regras de apuração individual</b>: o indicador será considerado cumprido para os funcionários que:\n- completarem o mínimo de 20 horas total de cursos, sendo no mínimo 10h de treinamentos da Trilha Estratégica, realizados dentro do semestre de apuração\n- tiverem cumprido toda a Trilha Estratégica na data de apuração, desde que tenha cumprido o mínimo de 20 horas total no semestre de apuração\n\n<b>Regra de apuração por prefixo</b>: o indicador será considerado cumprido para os prefixos que tiverem 90% do público avaliável com o indicador cumprido no semestre.\n\n<b><<< Parte 2 >>></b>\n\nConsiderando as regras de apuração acima, responda às perguntas abaixo tomando por base a apuração do primeiro semestre:\n\n    a) quais os prefixos que cumpriram o indicador?\n\n    b) qual o prefixo com menor índice de cumprimento do indicador?\n\n    c) qual o prefixo com o maior índice de cumprimento do indicador?\n\n    d) qual o prefixo com o menor índice de funcionários não avaliáveis?\n\n    e) qual o maior índice de funcionários não avaliáveis dentre os observados nos prefixos avaliados?\n\nAo final do exercício, deverá ser criada uma variável para cada um dos itens acima, sendo o nome e o tipo delas conforme abaixo detalhado:\n\n|Item|Nome da variável|Tipo de objeto|\n|---|---|---|\n|a)|exercicio10a|variável do tipo list, itens do tipo int|\n|b)|exercicio10b|int|\n|c)|exercicio10c|int|\n|d)|exercicio10d|int|\n|e)|exercicio10e|float (2casas decimais)|\n\n<b>Regra 1:</b> utilize a função round() para eventuais arredondamentos.\n\n<b>Regra 2:</b> em caso de empate, o desempate será pela maior quantidade de funcionários avaliáveis no prefixo.",
      "metadata": {},
      "id": "fcf1e379-e0e7-4d8c-9a3d-aa66f6fc1260"
    },
    {
      "cell_type": "code",
      "source": "",
      "metadata": {},
      "execution_count": null,
      "outputs": [],
      "id": "d5a2ec03-f224-43d8-a73a-b778bed453f5"
    },
    {
      "cell_type": "code",
      "source": "",
      "metadata": {},
      "execution_count": null,
      "outputs": [],
      "id": "15d6a03b-5908-4bc5-9197-051c54bc81ca"
    },
    {
      "cell_type": "code",
      "source": "",
      "metadata": {},
      "execution_count": null,
      "outputs": [],
      "id": "2cfe3d1d-f069-48c8-b7b4-1a899723c8e3"
    },
    {
      "cell_type": "markdown",
      "source": "# Boletim de soluções",
      "metadata": {},
      "id": "c4755e98-adca-453c-b18a-009ea735f02a"
    },
    {
      "cell_type": "code",
      "source": "# importar bibliotecas para geração dos artefatos\nimport pickle",
      "metadata": {},
      "execution_count": null,
      "outputs": [],
      "id": "c440f300-e97f-413c-82e0-c27fd9d378cd"
    },
    {
      "cell_type": "code",
      "source": "# Favor não alterar esta célula\n# verificar a existência das variáveis e gerar artefatos para verificação\nif 'exercicio1' in globals():\n    print('DataFrame exercicio1 localizado. Ele poderá ser enviado para validação.')\n    with open(f'{chaveF}_exercicio1.pkl','wb') as f:\n        pickle.dump(exercicio1, f)\nelse:\n    print('O exercício 1 não tem condições de ser avaliado.')\n\nif 'exercicio2' in globals():\n    print('DataFrame exercicio2 localizado. Ele poderá ser enviado para validação.')\n    with open(f'{chaveF}_exercicio2.pkl','wb') as f:\n        pickle.dump(exercicio2, f)\nelse:\n    print('O exercício 2 não tem condições de ser avaliado.')\n    \nif 'exercicio3' in globals():\n    print('DataFrame exercicio3 localizado. Ele poderá ser enviado para validação.')\n    with open(f'{chaveF}_exercicio3.pkl','wb') as f:\n        pickle.dump(exercicio3, f)\nelse:\n    print('O exercício 3 não tem condições de ser avaliado.')\n\nif 'exercicio4' in globals():\n    print('DataFrame exercicio4 localizado. Ele poderá ser enviado para validação.')\n    with open(f'{chaveF}_exercicio4.pkl','wb') as f:\n        pickle.dump(exercicio4, f)\nelse:\n    print('O exercício 4 não tem condições de ser avaliado.')\n\nif 'exercicio5' in globals():\n    print('DataFrame exercicio5 localizado. Ele poderá ser enviado para validação.')\n    with open(f'{chaveF}_exercicio5.pkl','wb') as f:\n        pickle.dump(exercicio5, f)\nelse:\n    print('O exercício 5 não tem condições de ser avaliado.')\n    \nif 'exercicio6' in globals():\n    print('DataFrame exercicio6 localizado. Ele poderá ser enviado para validação.')\n    with open(f'{chaveF}_exercicio6.pkl','wb') as f:\n        pickle.dump(exercicio6, f)\nelse:\n    print('O exercício 6 não tem condições de ser avaliado.')\n\nif 'exercicio7' in globals():\n    print('DataFrame exercicio7 localizado. Ele poderá ser enviado para validação.')\n    with open(f'{chaveF}exercicio7.pkl','wb') as f:\n        pickle.dump(exercicio7, f)\nelse:\n    print('O exercício 7 não tem condições de ser avaliado.')\n\nif 'exercicio8' in globals():\n    print('DataFrame exercicio8 localizado. Ele poderá ser enviado para validação.')\n    with open(f'{chaveF}exercicio8.pkl','wb') as f:\n        pickle.dump(exercicio8, f)\nelse:\n    print('O exercício 8 não tem condições de ser avaliado.')\n\nif 'exercicio9' in globals():\n    print('DataFrame exercicio9 localizado. Ele poderá ser enviado para validação.')\n    with open(f'{chaveF}exercicio9.pkl','wb') as f:\n        pickle.dump(exercicio9, f)\nelse:\n    print('O exercício 9 não tem condições de ser avaliado.')\n\n\nexercicio10_variaveis = {}\n\nexercicio10_variaveis['variavel'] = []\nexercicio10_variaveis['valor'] = []\nif 'exercicio10a' in globals():\n    exercicio10_variaveis['variavel'].append('exercicio10a')\n    exercicio10_variaveis['valor'].append(exercicio10a)\nif 'exercicio10b' in globals():\n    exercicio10_variaveis['variavel'].append('exercicio10b')\n    exercicio10_variaveis['valor'].append(exercicio10b)\nif 'exercicio10b' in globals():\n    exercicio10_variaveis['variavel'].append('exercicio10c')\n    exercicio10_variaveis['valor'].append(exercicio10c)\nif 'exercicio10d' in globals():\n    exercicio10_variaveis['variavel'].append('exercicio10d')\n    exercicio10_variaveis['valor'].append(exercicio10d)\nif 'exercicio10e' in globals():\n    exercicio10_variaveis['variavel'].append('exercicio10e')\n    exercicio10_variaveis['valor'].append(exercicio10e)\n\nexercicio10_variaveis = pd.DataFrame(exercicio10_variaveis)\nif exercicio10_variaveis.shape[0] == 5 and 'exercicio10' in globals():\n    print('DataFrame exercicio10 localizado. Ele poderá ser enviado para validação.')\n    print('Variáveis exercicio10a, exercicio10b, exercicio10c, exercicio10d e exercicio10e localizadas. Elas poderão ser enviadas para validação.')\n    exercicio10_variaveis.to_csv(f'{chaveF}_exercicio10_variaveis.csv', header=True, sep=',', index=False)\n    with open(f'{chaveF}exercicio10.pkl','wb') as f:\n        pickle.dump(exercicio10, f)\n\nelse:\n    print('O exercício 10 não tem condições de ser avaliado.')",
      "metadata": {
        "trusted": true
      },
      "execution_count": null,
      "outputs": [],
      "id": "07852ba0-8f84-45a2-b8c0-9b846374fed3"
    },
    {
      "cell_type": "code",
      "source": "",
      "metadata": {},
      "execution_count": null,
      "outputs": [],
      "id": "39f3c265-c249-4803-b508-18a58875a28a"
    }
  ]
}